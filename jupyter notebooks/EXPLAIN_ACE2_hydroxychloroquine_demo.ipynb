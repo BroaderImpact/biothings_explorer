{
 "cells": [
  {
   "cell_type": "markdown",
   "metadata": {},
   "source": [
    "# Introduction\n",
    "\n",
    "This notebook demonstrates basic usage of BioThings Explorer, an engine for autonomously querying a distributed knowledge graph. BioThings Explorer can answer two classes of queries -- \"PREDICT\" and \"EXPLAIN\".  PREDICT queries are described in [PREDICT_demo.ipynb](PREDICT_demo.ipynb). Here, we describe EXPLAIN queries and how to use BioThings Explorer to execute them.  A more detailed overview of the BioThings Explorer systems is provided in [these slides](https://docs.google.com/presentation/d/1QWQqqQhPD_pzKryh6Wijm4YQswv8pAjleVORCPyJyDE/edit?usp=sharing).\n",
    "\n",
    "EXPLAIN queries are designed to **identify plausible reasoning chains to explain the relationship between two entities**.  For example, in this notebook, we explore the question:\n",
    "\n",
    "&nbsp;&nbsp;&nbsp;&nbsp;&nbsp;&nbsp;&nbsp;&nbsp;&nbsp;\"*Why does hydroxychloroquine have an effect on ACE2?*\"  \n",
    "\n",
    "\n",
    "\n",
    "**To experiment with an executable version of this notebook, [load it in Google Colaboratory](https://colab.research.google.com/github/biothings/biothings_explorer/blob/master/jupyter%20notebooks/EXPLAIN_ACE2_hydroxychloroquine_demo.ipynb).**"
   ]
  },
  {
   "cell_type": "markdown",
   "metadata": {},
   "source": [
    "## Step 0: Load BioThings Explorer modules"
   ]
  },
  {
   "cell_type": "markdown",
   "metadata": {},
   "source": [
    "First, install the `biothings_explorer` and `biothings_schema` packages, as described in this [README](https://github.com/biothings/biothings_explorer/blob/master/jupyter%20notebooks/README.md#prerequisite).  This only needs to be done once (but including it here for compability with [colab](https://colab.research.google.com/))."
   ]
  },
  {
   "cell_type": "code",
   "execution_count": 1,
   "metadata": {},
   "outputs": [
    {
     "name": "stdout",
     "output_type": "stream",
     "text": [
      "Collecting biothings_explorer from git+https://github.com/biothings/biothings_explorer#egg=biothings_explorer\n",
      "  Cloning https://github.com/biothings/biothings_explorer to /private/var/folders/59/w2v_bg_d2rj_hg69468vdxzw0000gn/T/pip-install-87l7sgk0/biothings-explorer\n",
      "  Running command git clone -q https://github.com/biothings/biothings_explorer /private/var/folders/59/w2v_bg_d2rj_hg69468vdxzw0000gn/T/pip-install-87l7sgk0/biothings-explorer\n",
      "  Running command git submodule update --init --recursive -q\n",
      "Requirement already satisfied: jupyter in ./ENV/lib/python3.7/site-packages (from biothings_explorer) (1.0.0)\n",
      "Requirement already satisfied: notebook==5.7.5 in ./ENV/lib/python3.7/site-packages (from biothings_explorer) (5.7.5)\n",
      "Requirement already satisfied: tornado==4.5.3 in ./ENV/lib/python3.7/site-packages (from biothings_explorer) (4.5.3)\n",
      "Requirement already satisfied: jsonschema>=3.0.1 in ./ENV/lib/python3.7/site-packages (from biothings_explorer) (3.0.1)\n",
      "Requirement already satisfied: networkx==2.3 in ./ENV/lib/python3.7/site-packages (from biothings_explorer) (2.3)\n",
      "Requirement already satisfied: jsonpath-rw>=1.4.0 in ./ENV/lib/python3.7/site-packages (from biothings_explorer) (1.4.0)\n",
      "Requirement already satisfied: requests>=2.21.0 in ./ENV/lib/python3.7/site-packages (from biothings_explorer) (2.22.0)\n",
      "Requirement already satisfied: graphviz>=0.11.1 in ./ENV/lib/python3.7/site-packages (from biothings_explorer) (0.11.1)\n",
      "Requirement already satisfied: aiohttp in ./ENV/lib/python3.7/site-packages (from biothings_explorer) (3.5.4)\n",
      "Requirement already satisfied: pandas in ./ENV/lib/python3.7/site-packages (from biothings_explorer) (0.25.1)\n",
      "Requirement already satisfied: biothings_schema@ git+https://github.com/biothings/biothings_schema.py from git+https://github.com/biothings/biothings_schema.py in ./ENV/lib/python3.7/site-packages (from biothings_explorer) (0.0.1)\n",
      "Requirement already satisfied: ipykernel in ./ENV/lib/python3.7/site-packages (from jupyter->biothings_explorer) (5.1.1)\n",
      "Requirement already satisfied: nbconvert in ./ENV/lib/python3.7/site-packages (from jupyter->biothings_explorer) (5.5.0)\n",
      "Requirement already satisfied: ipywidgets in ./ENV/lib/python3.7/site-packages (from jupyter->biothings_explorer) (7.4.2)\n",
      "Requirement already satisfied: qtconsole in ./ENV/lib/python3.7/site-packages (from jupyter->biothings_explorer) (4.5.1)\n",
      "Requirement already satisfied: jupyter-console in ./ENV/lib/python3.7/site-packages (from jupyter->biothings_explorer) (6.0.0)\n",
      "Requirement already satisfied: prometheus-client in ./ENV/lib/python3.7/site-packages (from notebook==5.7.5->biothings_explorer) (0.7.0)\n",
      "Requirement already satisfied: jupyter-core>=4.4.0 in ./ENV/lib/python3.7/site-packages (from notebook==5.7.5->biothings_explorer) (4.4.0)\n",
      "Requirement already satisfied: pyzmq>=17 in ./ENV/lib/python3.7/site-packages (from notebook==5.7.5->biothings_explorer) (18.0.1)\n",
      "Requirement already satisfied: traitlets>=4.2.1 in ./ENV/lib/python3.7/site-packages (from notebook==5.7.5->biothings_explorer) (4.3.2)\n",
      "Requirement already satisfied: jinja2 in ./ENV/lib/python3.7/site-packages (from notebook==5.7.5->biothings_explorer) (2.10.1)\n",
      "Requirement already satisfied: nbformat in ./ENV/lib/python3.7/site-packages (from notebook==5.7.5->biothings_explorer) (4.4.0)\n",
      "Requirement already satisfied: terminado>=0.8.1 in ./ENV/lib/python3.7/site-packages (from notebook==5.7.5->biothings_explorer) (0.8.2)\n",
      "Requirement already satisfied: ipython-genutils in ./ENV/lib/python3.7/site-packages (from notebook==5.7.5->biothings_explorer) (0.2.0)\n",
      "Requirement already satisfied: Send2Trash in ./ENV/lib/python3.7/site-packages (from notebook==5.7.5->biothings_explorer) (1.5.0)\n",
      "Requirement already satisfied: jupyter-client>=5.2.0 in ./ENV/lib/python3.7/site-packages (from notebook==5.7.5->biothings_explorer) (5.2.4)\n",
      "Requirement already satisfied: attrs>=17.4.0 in ./ENV/lib/python3.7/site-packages (from jsonschema>=3.0.1->biothings_explorer) (19.1.0)\n",
      "Requirement already satisfied: setuptools in ./ENV/lib/python3.7/site-packages (from jsonschema>=3.0.1->biothings_explorer) (41.0.1)\n",
      "Requirement already satisfied: six>=1.11.0 in ./ENV/lib/python3.7/site-packages (from jsonschema>=3.0.1->biothings_explorer) (1.12.0)\n",
      "Requirement already satisfied: pyrsistent>=0.14.0 in ./ENV/lib/python3.7/site-packages (from jsonschema>=3.0.1->biothings_explorer) (0.15.2)\n",
      "Requirement already satisfied: decorator>=4.3.0 in ./ENV/lib/python3.7/site-packages (from networkx==2.3->biothings_explorer) (4.4.0)\n",
      "Requirement already satisfied: ply in ./ENV/lib/python3.7/site-packages (from jsonpath-rw>=1.4.0->biothings_explorer) (3.11)\n",
      "Requirement already satisfied: idna<2.9,>=2.5 in ./ENV/lib/python3.7/site-packages (from requests>=2.21.0->biothings_explorer) (2.8)\n",
      "Requirement already satisfied: certifi>=2017.4.17 in ./ENV/lib/python3.7/site-packages (from requests>=2.21.0->biothings_explorer) (2019.3.9)\n",
      "Requirement already satisfied: urllib3!=1.25.0,!=1.25.1,<1.26,>=1.21.1 in ./ENV/lib/python3.7/site-packages (from requests>=2.21.0->biothings_explorer) (1.25.3)\n",
      "Requirement already satisfied: chardet<3.1.0,>=3.0.2 in ./ENV/lib/python3.7/site-packages (from requests>=2.21.0->biothings_explorer) (3.0.4)\n",
      "Requirement already satisfied: async-timeout<4.0,>=3.0 in ./ENV/lib/python3.7/site-packages (from aiohttp->biothings_explorer) (3.0.1)\n",
      "Requirement already satisfied: yarl<2.0,>=1.0 in ./ENV/lib/python3.7/site-packages (from aiohttp->biothings_explorer) (1.3.0)\n",
      "Requirement already satisfied: multidict<5.0,>=4.0 in ./ENV/lib/python3.7/site-packages (from aiohttp->biothings_explorer) (4.5.2)\n",
      "Requirement already satisfied: numpy>=1.13.3 in ./ENV/lib/python3.7/site-packages (from pandas->biothings_explorer) (1.17.0)\n",
      "Requirement already satisfied: python-dateutil>=2.6.1 in ./ENV/lib/python3.7/site-packages (from pandas->biothings_explorer) (2.8.0)\n",
      "Requirement already satisfied: pytz>=2017.2 in ./ENV/lib/python3.7/site-packages (from pandas->biothings_explorer) (2019.2)\n",
      "Requirement already satisfied: PyYAML>=5.1 in ./ENV/lib/python3.7/site-packages (from biothings_schema@ git+https://github.com/biothings/biothings_schema.py->biothings_explorer) (5.1.1)\n",
      "Requirement already satisfied: strict-rfc3339 in ./ENV/lib/python3.7/site-packages (from biothings_schema@ git+https://github.com/biothings/biothings_schema.py->biothings_explorer) (0.7)\n",
      "Requirement already satisfied: ipython>=5.0.0 in ./ENV/lib/python3.7/site-packages (from ipykernel->jupyter->biothings_explorer) (7.5.0)\n",
      "Requirement already satisfied: entrypoints>=0.2.2 in ./ENV/lib/python3.7/site-packages (from nbconvert->jupyter->biothings_explorer) (0.3)\n",
      "Requirement already satisfied: defusedxml in ./ENV/lib/python3.7/site-packages (from nbconvert->jupyter->biothings_explorer) (0.6.0)\n",
      "Requirement already satisfied: pandocfilters>=1.4.1 in ./ENV/lib/python3.7/site-packages (from nbconvert->jupyter->biothings_explorer) (1.4.2)\n",
      "Requirement already satisfied: testpath in ./ENV/lib/python3.7/site-packages (from nbconvert->jupyter->biothings_explorer) (0.4.2)\n",
      "Requirement already satisfied: pygments in ./ENV/lib/python3.7/site-packages (from nbconvert->jupyter->biothings_explorer) (2.4.2)\n",
      "Requirement already satisfied: bleach in ./ENV/lib/python3.7/site-packages (from nbconvert->jupyter->biothings_explorer) (3.1.0)\n",
      "Requirement already satisfied: mistune>=0.8.1 in ./ENV/lib/python3.7/site-packages (from nbconvert->jupyter->biothings_explorer) (0.8.4)\n",
      "Requirement already satisfied: widgetsnbextension~=3.4.0 in ./ENV/lib/python3.7/site-packages (from ipywidgets->jupyter->biothings_explorer) (3.4.2)\n",
      "Requirement already satisfied: prompt-toolkit<2.1.0,>=2.0.0 in ./ENV/lib/python3.7/site-packages (from jupyter-console->jupyter->biothings_explorer) (2.0.9)\n",
      "Requirement already satisfied: MarkupSafe>=0.23 in ./ENV/lib/python3.7/site-packages (from jinja2->notebook==5.7.5->biothings_explorer) (1.1.1)\n",
      "Requirement already satisfied: ptyprocess; os_name != \"nt\" in ./ENV/lib/python3.7/site-packages (from terminado>=0.8.1->notebook==5.7.5->biothings_explorer) (0.6.0)\n",
      "Requirement already satisfied: appnope; sys_platform == \"darwin\" in ./ENV/lib/python3.7/site-packages (from ipython>=5.0.0->ipykernel->jupyter->biothings_explorer) (0.1.0)\n",
      "Requirement already satisfied: pexpect; sys_platform != \"win32\" in ./ENV/lib/python3.7/site-packages (from ipython>=5.0.0->ipykernel->jupyter->biothings_explorer) (4.7.0)\n",
      "Requirement already satisfied: pickleshare in ./ENV/lib/python3.7/site-packages (from ipython>=5.0.0->ipykernel->jupyter->biothings_explorer) (0.7.5)\n",
      "Requirement already satisfied: jedi>=0.10 in ./ENV/lib/python3.7/site-packages (from ipython>=5.0.0->ipykernel->jupyter->biothings_explorer) (0.13.3)\n",
      "Requirement already satisfied: backcall in ./ENV/lib/python3.7/site-packages (from ipython>=5.0.0->ipykernel->jupyter->biothings_explorer) (0.1.0)\n",
      "Requirement already satisfied: webencodings in ./ENV/lib/python3.7/site-packages (from bleach->nbconvert->jupyter->biothings_explorer) (0.5.1)\n",
      "Requirement already satisfied: wcwidth in ./ENV/lib/python3.7/site-packages (from prompt-toolkit<2.1.0,>=2.0.0->jupyter-console->jupyter->biothings_explorer) (0.1.7)\n",
      "Requirement already satisfied: parso>=0.3.0 in ./ENV/lib/python3.7/site-packages (from jedi>=0.10->ipython>=5.0.0->ipykernel->jupyter->biothings_explorer) (0.4.0)\n",
      "Building wheels for collected packages: biothings-explorer\n",
      "  Building wheel for biothings-explorer (setup.py) ... \u001b[?25ldone\n",
      "\u001b[?25h  Stored in directory: /private/var/folders/59/w2v_bg_d2rj_hg69468vdxzw0000gn/T/pip-ephem-wheel-cache-mp83lp3v/wheels/61/44/e1/901cb798059240028e8e2b5d8ed46a47aafa11af30a20c465a\n",
      "Successfully built biothings-explorer\n",
      "Installing collected packages: biothings-explorer\n",
      "Successfully installed biothings-explorer-0.0.1\n",
      "\u001b[33mWARNING: You are using pip version 19.1.1, however version 20.0.2 is available.\n",
      "You should consider upgrading via the 'pip install --upgrade pip' command.\u001b[0m\n"
     ]
    }
   ],
   "source": [
    "!pip install git+https://github.com/biothings/biothings_explorer#egg=biothings_explorer"
   ]
  },
  {
   "cell_type": "markdown",
   "metadata": {},
   "source": [
    "Next, import the relevant modules:\n",
    "\n",
    "* **Hint**: Find corresponding bio-entity representation used in BioThings Explorer based on user input (could be any database IDs, symbols, names)\n",
    "* **FindConnection**: Find intermediate bio-entities which connects user specified input and output"
   ]
  },
  {
   "cell_type": "code",
   "execution_count": 1,
   "metadata": {},
   "outputs": [],
   "source": [
    "# import modules from biothings_explorer\n",
    "from biothings_explorer.hint import Hint\n",
    "from biothings_explorer.user_query_dispatcher import FindConnection"
   ]
  },
  {
   "cell_type": "markdown",
   "metadata": {},
   "source": [
    "## Step 1: Find representation of \"ACE2\" and \"hydroxychloroquine\" in BTE\n",
    "\n",
    "In this step, BioThings Explorer translates our query strings \"ACE2\" and \"hydroxychloroquine \" into BioThings objects, which contain mappings to many common identifiers.  Generally, the top result returned by the `Hint` module will be the correct item, but you should confirm that using the identifiers shown.\n",
    "\n",
    "Search terms can correspond to any child of [BiologicalEntity](https://biolink.github.io/biolink-model/docs/BiologicalEntity.html) from the [Biolink Model](https://biolink.github.io/biolink-model/docs/), including `DiseaseOrPhenotypicFeature` (e.g., \"lupus\"), `ChemicalSubstance` (e.g., \"acetaminophen\"), `Gene` (e.g., \"CDK2\"), `BiologicalProcess` (e.g., \"T cell differentiation\"), and `Pathway` (e.g., \"Citric acid cycle\")."
   ]
  },
  {
   "cell_type": "code",
   "execution_count": 4,
   "metadata": {},
   "outputs": [
    {
     "data": {
      "text/plain": [
       "{'entrez': '59272',\n",
       " 'name': 'angiotensin I converting enzyme 2',\n",
       " 'symbol': 'ACE2',\n",
       " 'taxonomy': 9606,\n",
       " 'umls': 'C1422064',\n",
       " 'uniprot': 'Q9BYF1',\n",
       " 'hgnc': '13557',\n",
       " 'ensembl': 'ENSG00000130234',\n",
       " 'display': 'entrez(59272) name(angiotensin I converting enzyme 2) symbol(ACE2) taxonomy(9606) umls(C1422064) uniprot(Q9BYF1) hgnc(13557) ensembl(ENSG00000130234) ',\n",
       " 'type': 'Gene',\n",
       " 'primary': {'identifier': 'entrez', 'cls': 'Gene', 'value': '59272'}}"
      ]
     },
     "execution_count": 4,
     "metadata": {},
     "output_type": "execute_result"
    }
   ],
   "source": [
    "ht = Hint()\n",
    "# find all potential representations of ACE2\n",
    "ace2_hint = ht.query(\"ACE2\")\n",
    "# select the correct representation of ACE2\n",
    "ace2 = ace2_hint['Gene'][0]\n",
    "ace2"
   ]
  },
  {
   "cell_type": "code",
   "execution_count": 5,
   "metadata": {},
   "outputs": [
    {
     "data": {
      "text/plain": [
       "{'chembl': 'CHEMBL1535',\n",
       " 'drugbank': 'DB01611',\n",
       " 'name': 'Hydroxychloroquine',\n",
       " 'pubchem': 3652,\n",
       " 'umls': 'C0020336',\n",
       " 'mesh': 'D006886',\n",
       " 'chebi': 'CHEBI:5801',\n",
       " 'smiles': 'CCN(CCO)CCCC(C)Nc1ccnc2cc(Cl)ccc12',\n",
       " 'display': 'chembl(CHEMBL1535) drugbank(DB01611) name(Hydroxychloroquine) pubchem(3652) umls(C0020336) mesh(D006886) chebi(CHEBI:5801) smiles(CCN(CCO)CCCC(C)Nc1ccnc2cc(Cl)ccc12) ',\n",
       " 'type': 'ChemicalSubstance',\n",
       " 'primary': {'identifier': 'chembl',\n",
       "  'cls': 'ChemicalSubstance',\n",
       "  'value': 'CHEMBL1535'}}"
      ]
     },
     "execution_count": 5,
     "metadata": {},
     "output_type": "execute_result"
    }
   ],
   "source": [
    "# find all potential representations of hydroxychloroquine \n",
    "hydroxychloroquine_hint = ht.query(\"hydroxychloroquine\")\n",
    "# select the correct representation of hydroxychloroquine \n",
    "hydroxychloroquine = hydroxychloroquine_hint['ChemicalSubstance'][0]\n",
    "hydroxychloroquine"
   ]
  },
  {
   "cell_type": "markdown",
   "metadata": {},
   "source": [
    "## Step 2: Find intermediate nodes connecting ACE2 and hydroxychloroquine \n",
    "\n",
    "In this section, we find all paths in the knowledge graph that connect ACE2 and hydroxychloroquine .  To do that, we will use `FindConnection`.  This class is a convenient wrapper around two advanced functions for **query path planning** and **query path execution**. More advanced features for both query path planning and query path execution are in development and will be documented in the coming months. \n",
    "\n",
    "The parameters for `FindConnection` are described below:\n"
   ]
  },
  {
   "cell_type": "code",
   "execution_count": 5,
   "metadata": {},
   "outputs": [
    {
     "name": "stdout",
     "output_type": "stream",
     "text": [
      "Help on function __init__ in module biothings_explorer.user_query_dispatcher:\n",
      "\n",
      "__init__(self, input_obj, output_obj, intermediate_nodes, registry=None)\n",
      "    Find relationships in the Knowledge Graph between an Input Object and an Output Object.\n",
      "    \n",
      "    Args:\n",
      "        input_obj (required): must be an object returned from Hint corresponding to a specific biomedical entity.\n",
      "                            Examples: \n",
      "                Hint().query(\"Fanconi anemia\")['DiseaseOrPhenotypicFeature'][0]\n",
      "                Hint().query(\"acetaminophen\")['ChemicalSubstance'][0]\n",
      "    \n",
      "        output_obj (required): must EITHER be an object returned from Hint corresponding to a specific biomedical\n",
      "                            entity, OR be a string or list of strings corresponding to Biolink Entity classes.\n",
      "                            Examples:\n",
      "                Hint().query(\"acetaminophen\")['ChemicalSubstance'][0]\n",
      "                'Gene'\n",
      "                ['Gene','ChemicalSubstance']\n",
      "    \n",
      "        intermediate_nodes (required): the semantic type(s) of the intermediate node(s).  Examples:\n",
      "                None                         : no intermediate node, find direct connections only\n",
      "                []                           : no intermediate node, find direct connections only\n",
      "                ['BiologicalEntity']         : one intermediate node of any semantic type\n",
      "                ['Gene']                     : one intermediate node that must be a Gene\n",
      "                [('Gene','Pathway')]         : one intermediate node that must be a Gene or a Pathway\n",
      "                ['Gene','Pathway']           : two intermediate nodes, first must be a Gene, second must be a Pathway.\n",
      "                ['Gene',('Pathway','Gene')]  : two intermediate nodes, first must be a Gene, second must be a Pathway or Gene.\n",
      "                                                **NOTE**: queries with more than one intermediate node are currently not supported\n",
      "\n"
     ]
    }
   ],
   "source": [
    "help(FindConnection.__init__)"
   ]
  },
  {
   "cell_type": "markdown",
   "metadata": {},
   "source": [
    "Here, we formulate a `FindConnection` query with \"CML\" as the `input_ojb`, \"imatinib\" as the `output_obj`.  We further specify with the `intermediate_nodes` parameter that we are looking for paths joining chronic myelogenous leukemia and imatinib with *one* intermediate node that is a Gene.  (The ability to search for longer reasoning paths that include additional intermediate nodes will be added shortly.)"
   ]
  },
  {
   "cell_type": "code",
   "execution_count": 12,
   "metadata": {},
   "outputs": [],
   "source": [
    "fc = FindConnection(input_obj=ace2, output_obj=hydroxychloroquine, intermediate_nodes=['BiologicalEntity'])"
   ]
  },
  {
   "cell_type": "markdown",
   "metadata": {},
   "source": [
    "We next execute the `connect` method, which performs the **query path planning** and **query path execution** process.  In short, BioThings Explorer is deconstructing the query into individual API calls, executing those API calls, then assembling the results.\n",
    "\n",
    "A verbose log of this process is displayed below:"
   ]
  },
  {
   "cell_type": "code",
   "execution_count": 13,
   "metadata": {
    "scrolled": false
   },
   "outputs": [
    {
     "name": "stdout",
     "output_type": "stream",
     "text": [
      "==========\n",
      "========== QUERY PARAMETER SUMMARY ==========\n",
      "==========\n",
      "\n",
      "BTE will find paths that join 'ACE2' and 'Hydroxychloroquine'. Paths will have 1 intermediate node.\n",
      "\n",
      "Intermediate node #1 will have these type constraints: BiologicalEntity\n",
      "\n",
      "\n",
      "==========\n",
      "========== QUERY #1 -- fetch all Biological Entities linked to 'ACE2' ==========\n",
      "==========\n",
      "\n",
      "==== Step #1: Query path planning ====\n",
      "\n",
      "Because ACE2 is of type 'Gene', BTE will query our meta-KG for APIs that can take 'Gene' as input and 'None' as output\n",
      "\n",
      "BTE found 18 apis:\n",
      "\n",
      "API 1. semmedgene(1 API call)\n",
      "API 2. biolink_gene2anatomy(1 API call)\n",
      "API 3. ctd_gene2disease(1 API call)\n",
      "API 4. scibite_gene2chemical(1 API call)\n",
      "API 5. pfocr(1 API call)\n",
      "API 6. DISEASES(1 API call)\n",
      "API 7. mydisease.info(1 API call)\n",
      "API 8. mychem.info(3 API calls)\n",
      "API 9. mygene.info(4 API calls)\n",
      "API 10. biolink_gene2phenotype(1 API call)\n",
      "API 11. dgidb_gene2chemical(1 API call)\n",
      "API 12. opentarget(1 API call)\n",
      "API 13. biolink_gene2disease(1 API call)\n",
      "API 14. scibite_gene2disease(1 API call)\n",
      "API 15. cordgene(1 API call)\n",
      "API 16. myvariant.info(1 API call)\n",
      "API 17. biolink_geneinteraction(1 API call)\n",
      "API 18. ebigene2phenotype(1 API call)\n",
      "\n",
      "\n",
      "==== Step #2: Query path execution ====\n",
      "NOTE: API requests are dispatched in parallel, so the list of APIs below is ordered by query time.\n",
      "\n",
      "API 9.4: http://mygene.info/v3/query (POST \"q=13557&scopes=pantherdb.ortholog.HGNC&fields=entrezgene&species=human&size=100\")\n",
      "API 9.3: http://mygene.info/v3/query (POST \"q=ENSG00000130234&scopes=pantherdb.ortholog.Ensembl&fields=entrezgene&species=human&size=100\")\n",
      "API 9.2: http://mygene.info/v3/query (POST \"q=59272&scopes=entrezgene&fields=go.BP,go.MF,pathway.reactome,pantherdb.ortholog,pathway.wikipathways,go.CC&species=human&size=100\")\n",
      "API 9.1: http://mygene.info/v3/query (POST \"q=ENSG00000130234&scopes=ensembl.gene&fields=uniprot.Swiss-Prot,ensembl.protein,ensembl&species=human&size=100\")\n",
      "API 6.1: http://mydisease.info/v1/query (POST \"q=59272&scopes=disgenet.genes_related_to_disease.gene_id&fields=mondo.xrefs.umls,disgenet.xrefs.umls&species=human&size=100\")\n",
      "API 12.1: http://www.dgidb.org/api/v2/interactions.json?genes=ACE2\n",
      "API 3.1: http://ctdbase.org/tools/batchQuery.go?inputType=gene&inputTerms=59272&report=diseases_curated&format=json\n",
      "0, message='Attempt to decode JSON with unexpected mimetype: text/plain;charset=utf-8'\n",
      "API 15.1: https://biothings.ncats.io/cord_gene/query (POST \"q=13557&scopes=hgnc&fields=associated_with&species=human&size=100\")\n",
      "API 13.1: https://api.monarchinitiative.org/api/bioentity/gene/NCBIGene:59272/diseases?rows=100\n",
      "API 16.1: http://myvariant.info/v1/query (POST \"q=59272&scopes=dbsnp.gene.geneid&fields=dbsnp.rsid&species=human&size=100\")\n",
      "API 1.1: https://pending.biothings.io/semmedgene/query (POST \"q=C1422064&scopes=umls&fields=disrupts,negatively_regulates,physically_interacts_with,affects,disrupted_by,affected_by,positively_regulates,causes,negatively_regulated_by,prevents,positively_regulated_by,treats,related_to&species=human&size=100\")\n",
      "API 7.1: https://pending.biothings.io/DISEASES/query (POST \"q=ACE2&scopes=DISEASES.associatedWith.symbol&fields=_id&species=human&size=100\")\n",
      "API 5.1: https://pending.biothings.io/pfocr/query (POST \"q=59272&scopes=associatedWith.genes&fields=_id&species=human&size=100\")\n",
      "API 18.1: https://pending.biothings.io/ebigene2phenotype/query (POST \"q=13557&scopes=_id&fields=gene2phenotype&species=human&size=100\")\n",
      "API 10.1: https://api.monarchinitiative.org/api/bioentity/gene/NCBIGene:59272/phenotypes?rows=100\n",
      "API 4.1: https://automat.renci.org/cord19_scibite_v2/gene/chemical_substance/NCBIGene:59272\n",
      "API 17.1: https://api.monarchinitiative.org/api/bioentity/gene/NCBIGene:59272/interactions?rows=100\n",
      "API 2.1: https://api.monarchinitiative.org/api/bioentity/gene/NCBIGene:59272/anatomy?rows=100\n",
      "API 14.1: https://automat.renci.org/cord19_scibite_v2/gene/disease/NCBIGene:59272\n",
      "API 11.1: https://platform-api.opentargets.io/v3/platform/public/evidence/filter?target=ENSG00000130234&datasource=chembl&size=15&fields=drug\n",
      "API 8.1: http://mychem.info/v1/query (POST \"q=ACE2&scopes=drugbank.enzymes.gene_name&fields=drugbank.id&species=human&size=100\")\n",
      "API 8.3: http://mychem.info/v1/query (POST \"q=ACE2&scopes=drugcentral.bioactivity.uniprot.gene_symbol&fields=chembl.molecule_chembl_id,chebi.xrefs.chembl&species=human&size=100\")\n",
      "API 8.2: http://mychem.info/v1/query (POST \"q=ACE2&scopes=drugbank.targets.gene_name&fields=drugbank.id&species=human&size=100\")\n",
      "\n",
      "\n",
      "==== Step #3: Output normalization ====\n",
      "\n",
      "API 7.1 DISEASES: 31 hits\n",
      "API 2.1 biolink_gene2anatomy: 20 hits\n",
      "API 13.1 biolink_gene2disease: No hits\n",
      "API 10.1 biolink_gene2phenotype: No hits\n",
      "API 17.1 biolink_geneinteraction: 22 hits\n",
      "API 15.1 cordgene: 123 hits\n",
      "API 3.1 ctd_gene2disease: 17 hits\n",
      "API 12.1 dgidb_gene2chemical: 4 hits\n",
      "API 18.1 ebigene2phenotype: No hits\n",
      "API 8.1 mychem.info: No hits\n",
      "API 8.2 mychem.info: 2 hits\n",
      "API 8.3 mychem.info: 2 hits\n",
      "API 6.1 mydisease.info: 12 hits\n",
      "API 9.1 mygene.info: 2 hits\n",
      "API 9.2 mygene.info: 56 hits\n",
      "API 9.3 mygene.info: No hits\n",
      "API 9.4 mygene.info: No hits\n",
      "API 16.1 myvariant.info: 100 hits\n",
      "API 11.1 opentarget: No hits\n",
      "API 5.1 pfocr: 34 hits\n",
      "API 4.1 scibite_gene2chemical: 1 hits\n",
      "API 14.1 scibite_gene2disease: 1 hits\n",
      "API 1.1 semmedgene: 277 hits\n",
      "\n",
      "After id-to-object translation, BTE retrieved 663 unique objects.\n",
      "\n",
      "\n",
      "==========\n",
      "========== QUERY #2 -- fetch all Biological Entities linked to 'Hydroxychloroquine' ==========\n",
      "==========\n",
      "\n",
      "==== Step #1: Query path planning ====\n",
      "\n",
      "Because Hydroxychloroquine is of type 'ChemicalSubstance', BTE will query our meta-KG for APIs that can take 'ChemicalSubstance' as input and 'None' as output\n",
      "\n",
      "BTE found 9 apis:\n",
      "\n",
      "API 1. cordchemical(1 API call)\n",
      "API 2. scibite_chemical2gene(1 API call)\n",
      "API 3. mydisease.info(1 API call)\n",
      "API 4. dgidb_chemical2gene(1 API call)\n",
      "API 5. mychem.info(2 API calls)\n",
      "API 6. ctd_chemical2gene(1 API call)\n",
      "API 7. scibite_chemical2disease(1 API call)\n",
      "API 8. chembl_drug_mechanism(1 API call)\n",
      "API 9. semmedchemical(1 API call)\n",
      "\n",
      "\n",
      "==== Step #2: Query path execution ====\n",
      "NOTE: API requests are dispatched in parallel, so the list of APIs below is ordered by query time.\n",
      "\n",
      "API 3.1: http://mydisease.info/v1/query (POST \"q=D006886&scopes=ctd.chemical_related_to_disease.mesh_chemical_id&fields=mondo.xrefs.mesh,disgenet.xrefs.mesh&species=human&size=100\")\n",
      "API 4.1: http://www.dgidb.org/api/v2/interactions.json?drugs=CHEMBL1535\n",
      "API 5.2: http://mychem.info/v1/query (POST \"q=DB01611&scopes=drugbank.id&fields=drugbank.targets,drugbank.enzymes&species=human&size=100\")\n",
      "API 5.1: http://mychem.info/v1/query (POST \"q=CHEMBL1535&scopes=chembl.molecule_chembl_id,chebi.xrefs.chembl&fields=drugcentral.bioactivity,drugcentral.drug_use.contraindication,drugcentral.drug_use.indication&species=human&size=100\")\n",
      "API 6.1: http://ctdbase.org/tools/batchQuery.go?inputType=chem&inputTerms=D006886|mercury&report=genes_curated&format=json\n",
      "API 1.1: https://biothings.ncats.io/cord_chemical/query (POST \"q=CHEBI:5801&scopes=chebi&fields=associated_with&species=human&size=100\")\n",
      "0, message='Attempt to decode JSON with unexpected mimetype: text/plain;charset=utf-8'\n",
      "API 9.1: https://pending.biothings.io/semmedchemical/query (POST \"q=C0020336&scopes=umls&fields=disrupts,related_to,negatively_regulates,physically_interacts_with,affects,disrupted_by,affected_by,treats,positively_regulates,causes,negatively_regulated_by,prevents,positively_regulated_by,produced_by,coexists_with,produces&species=human&size=100\")\n",
      "API 2.1: https://automat.renci.org/cord19_scibite_v2/chemical_substance/gene/CHEBI:5801\n",
      "API 7.1: https://automat.renci.org/cord19_scibite_v2/chemical_substance/disease/CHEBI:5801\n",
      "API 8.1: https://www.ebi.ac.uk/chembl/api/data/mechanism.json?molecule_chembl_id=CHEMBL1535\n",
      "\n",
      "\n",
      "==== Step #3: Output normalization ====\n",
      "\n",
      "API 8.1 chembl_drug_mechanism: No hits\n",
      "API 1.1 cordchemical: 38 hits\n",
      "API 6.1 ctd_chemical2gene: 757 hits\n",
      "API 4.1 dgidb_chemical2gene: 9 hits\n",
      "API 5.1 mychem.info: 30 hits\n",
      "API 5.2 mychem.info: 5 hits\n",
      "API 3.1 mydisease.info: No hits\n",
      "API 7.1 scibite_chemical2disease: 1 hits\n",
      "API 2.1 scibite_chemical2gene: No hits\n",
      "API 9.1 semmedchemical: 640 hits\n",
      "\n",
      "After id-to-object translation, BTE retrieved 1226 unique objects.\n",
      "\n",
      "==========\n",
      "========== Final assembly of results ==========\n",
      "==========\n",
      "\n",
      "\n",
      "BTE found 74 unique intermediate nodes connecting 'ACE2' and 'Hydroxychloroquine'\n"
     ]
    }
   ],
   "source": [
    "# set verbose=True will display all steps which BTE takes to find the connection\n",
    "fc.connect(verbose=True)"
   ]
  },
  {
   "cell_type": "markdown",
   "metadata": {},
   "source": [
    "## Step 3: Display and Filter results\n",
    "This section demonstrates post-query filtering done in Python. Later, more advanced filtering functions will be added to the **query path execution** module for interleaved filtering, thereby enabling longer query paths. More details to come...\n",
    "\n",
    "First, all matching paths can be exported to a data frame. Let's examine a sample of those results."
   ]
  },
  {
   "cell_type": "code",
   "execution_count": 16,
   "metadata": {
    "scrolled": true
   },
   "outputs": [
    {
     "data": {
      "text/html": [
       "<div>\n",
       "<style scoped>\n",
       "    .dataframe tbody tr th:only-of-type {\n",
       "        vertical-align: middle;\n",
       "    }\n",
       "\n",
       "    .dataframe tbody tr th {\n",
       "        vertical-align: top;\n",
       "    }\n",
       "\n",
       "    .dataframe thead th {\n",
       "        text-align: right;\n",
       "    }\n",
       "</style>\n",
       "<table border=\"1\" class=\"dataframe\">\n",
       "  <thead>\n",
       "    <tr style=\"text-align: right;\">\n",
       "      <th></th>\n",
       "      <th>input</th>\n",
       "      <th>input_type</th>\n",
       "      <th>pred1</th>\n",
       "      <th>pred1_source</th>\n",
       "      <th>pred1_api</th>\n",
       "      <th>pred1_pubmed</th>\n",
       "      <th>node1_type</th>\n",
       "      <th>node1_name</th>\n",
       "      <th>node1_id</th>\n",
       "      <th>pred2</th>\n",
       "      <th>pred2_source</th>\n",
       "      <th>pred2_api</th>\n",
       "      <th>pred2_pubmed</th>\n",
       "      <th>output_type</th>\n",
       "      <th>output_name</th>\n",
       "      <th>output_id</th>\n",
       "    </tr>\n",
       "  </thead>\n",
       "  <tbody>\n",
       "    <tr>\n",
       "      <td>72</td>\n",
       "      <td>ACE2</td>\n",
       "      <td>Gene</td>\n",
       "      <td>associatedWith</td>\n",
       "      <td>DISEASES</td>\n",
       "      <td>DISEASES</td>\n",
       "      <td>None</td>\n",
       "      <td>DiseaseOrPhenotypicFeature</td>\n",
       "      <td>malaria</td>\n",
       "      <td>mondo:MONDO:0005136</td>\n",
       "      <td>associatedWith</td>\n",
       "      <td>scibite</td>\n",
       "      <td>scibite_chemical2disease</td>\n",
       "      <td>None</td>\n",
       "      <td>DiseaseOrPhenotypicFeature</td>\n",
       "      <td>HYDROXYCHLOROQUINE</td>\n",
       "      <td>chembl:CHEMBL1535</td>\n",
       "    </tr>\n",
       "  </tbody>\n",
       "</table>\n",
       "</div>"
      ],
      "text/plain": [
       "   input input_type           pred1 pred1_source pred1_api pred1_pubmed  \\\n",
       "72  ACE2       Gene  associatedWith     DISEASES  DISEASES         None   \n",
       "\n",
       "                    node1_type node1_name             node1_id  \\\n",
       "72  DiseaseOrPhenotypicFeature    malaria  mondo:MONDO:0005136   \n",
       "\n",
       "             pred2 pred2_source                 pred2_api pred2_pubmed  \\\n",
       "72  associatedWith      scibite  scibite_chemical2disease         None   \n",
       "\n",
       "                   output_type         output_name          output_id  \n",
       "72  DiseaseOrPhenotypicFeature  HYDROXYCHLOROQUINE  chembl:CHEMBL1535  "
      ]
     },
     "execution_count": 16,
     "metadata": {},
     "output_type": "execute_result"
    }
   ],
   "source": [
    "df = fc.display_table_view()\n",
    "\n",
    "df[df['pred2_api'] == 'scibite_chemical2disease']"
   ]
  },
  {
   "cell_type": "markdown",
   "metadata": {},
   "source": [
    "While most results are based on edges from [semmed](https://skr3.nlm.nih.gov/SemMed/), edges from [DGIdb](http://www.dgidb.org/), [biolink](https://monarchinitiative.org/), [disgenet](http://www.disgenet.org/), [mydisease.info](https://mydisease.info) and [drugcentral](http://drugcentral.org/) were also retrieved from their respective APIs.  \n",
    "\n",
    "Next, let's look to see which genes are mentioned the most."
   ]
  },
  {
   "cell_type": "code",
   "execution_count": 18,
   "metadata": {},
   "outputs": [
    {
     "data": {
      "text/plain": [
       "array(['GenomicEntity', 'AnatomicalEntity', 'DiseaseOrPhenotypicFeature',\n",
       "       'ChemicalSubstance', 'Gene', 'CellularComponent',\n",
       "       'BiologicalProcess'], dtype=object)"
      ]
     },
     "execution_count": 18,
     "metadata": {},
     "output_type": "execute_result"
    }
   ],
   "source": [
    "df.node1_type.unique()"
   ]
  }
 ],
 "metadata": {
  "kernelspec": {
   "display_name": "Python 3",
   "language": "python",
   "name": "python3"
  },
  "language_info": {
   "codemirror_mode": {
    "name": "ipython",
    "version": 3
   },
   "file_extension": ".py",
   "mimetype": "text/x-python",
   "name": "python",
   "nbconvert_exporter": "python",
   "pygments_lexer": "ipython3",
   "version": "3.7.3"
  }
 },
 "nbformat": 4,
 "nbformat_minor": 2
}
