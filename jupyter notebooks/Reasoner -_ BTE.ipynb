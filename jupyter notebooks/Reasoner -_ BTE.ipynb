{
 "cells": [
  {
   "cell_type": "code",
   "execution_count": 1,
   "metadata": {},
   "outputs": [],
   "source": [
    "from biothings_explorer.hint import Hint\n",
    "from biothings_explorer.user_query_dispatcher import FindConnection"
   ]
  },
  {
   "cell_type": "code",
   "execution_count": 2,
   "metadata": {},
   "outputs": [
    {
     "data": {
      "text/plain": [
       "{'entrez': '59272',\n",
       " 'name': 'angiotensin I converting enzyme 2',\n",
       " 'symbol': 'ACE2',\n",
       " 'taxonomy': 9606,\n",
       " 'umls': 'C1422064',\n",
       " 'uniprot': 'Q9BYF1',\n",
       " 'hgnc': '13557',\n",
       " 'display': 'entrez(59272) name(angiotensin I converting enzyme 2) symbol(ACE2) taxonomy(9606) umls(C1422064) uniprot(Q9BYF1) hgnc(13557) ',\n",
       " 'type': 'Gene',\n",
       " 'primary': {'identifier': 'entrez', 'cls': 'Gene', 'value': '59272'}}"
      ]
     },
     "execution_count": 2,
     "metadata": {},
     "output_type": "execute_result"
    }
   ],
   "source": [
    "ht = Hint()\n",
    "ace2 = ht.query(\"ACE2\")['Gene'][0]\n",
    "ace2"
   ]
  },
  {
   "cell_type": "code",
   "execution_count": 3,
   "metadata": {},
   "outputs": [],
   "source": [
    "fc = FindConnection(input_obj=ace2,\n",
    "                    output_obj='GeneFamily',\n",
    "                    intermediate_nodes=None)"
   ]
  },
  {
   "cell_type": "code",
   "execution_count": 4,
   "metadata": {},
   "outputs": [
    {
     "name": "stdout",
     "output_type": "stream",
     "text": [
      "==========\n",
      "========== QUERY PARAMETER SUMMARY ==========\n",
      "==========\n",
      "\n",
      "BTE will find paths that join 'ACE2' and 'GeneFamily'. Paths will have 0 intermediate node.\n",
      "\n",
      "\n",
      "\n",
      "========== QUERY #1 -- fetch all GeneFamily entities linked to ACE2 ==========\n",
      "==========\n",
      "\n",
      "==== Step #1: Query path planning ====\n",
      "\n",
      "Because ACE2 is of type 'Gene', BTE will query our meta-KG for APIs that can take 'Gene' as input\n",
      "\n",
      "BTE found 1 apis:\n",
      "\n",
      "API 1. robokop_gene2genefamily(1 API call)\n",
      "\n",
      "\n",
      "==== Step #2: Query path execution ====\n",
      "NOTE: API requests are dispatched in parallel, so the list of APIs below is ordered by query time.\n",
      "\n",
      "API 1.1: https://robokop.renci.org/api/simple/expand/gene/HGNC:13557/gene_family/\n",
      "\n",
      "\n",
      "==== Step #3: Output normalization ====\n",
      "\n",
      "API 1.1 robokop_gene2genefamily: 1 hits\n",
      "\n",
      "After id-to-object translation, BTE retrieved 1 unique objects.\n",
      "\n",
      "==========\n",
      "========== Final assembly of results ==========\n",
      "==========\n",
      "\n",
      "\n",
      "In the #1 query, BTE found 1 unique GeneFamily nodes\n"
     ]
    }
   ],
   "source": [
    "fc.connect(verbose=True)"
   ]
  },
  {
   "cell_type": "code",
   "execution_count": 6,
   "metadata": {},
   "outputs": [
    {
     "data": {
      "text/plain": [
       "{'question_graph': {'edges': [{'id': 'e0',\n",
       "    'source_id': 'n0',\n",
       "    'target_id': 'n1',\n",
       "    'directed': True}],\n",
       "  'nodes': [{'id': 'n0', 'type': 'Gene'}, {'id': 'n1', 'type': 'GeneFamily'}]},\n",
       " 'knowledge_graph': {'nodes': [{'id': 'ENTREZ:ACE2',\n",
       "    'name': ['angiotensin-converting enzyme homolog',\n",
       "     'angiotensin I converting enzyme (peptidyl-dipeptidase A) 2',\n",
       "     'peptidyl-dipeptidase A',\n",
       "     'angiotensin I converting enzyme 2',\n",
       "     'ACE-related carboxypeptidase',\n",
       "     'metalloprotease MPROT15',\n",
       "     'angiotensin-converting enzyme 2'],\n",
       "    'type': 'Gene',\n",
       "    'equivalent_identifiers': {'bts:ensembl': ['ENSG00000130234'],\n",
       "     'bts:hgnc': ['13557'],\n",
       "     'bts:omim': ['300335'],\n",
       "     'bts:entrez': ['59272'],\n",
       "     'bts:pharos': [],\n",
       "     'bts:umls': ['C1422064'],\n",
       "     'bts:unigene': ['Hs.178098'],\n",
       "     'bts:pharmgkb': ['PA425'],\n",
       "     'bts:name': ['angiotensin-converting enzyme homolog',\n",
       "      'angiotensin I converting enzyme (peptidyl-dipeptidase A) 2',\n",
       "      'peptidyl-dipeptidase A',\n",
       "      'angiotensin I converting enzyme 2',\n",
       "      'ACE-related carboxypeptidase',\n",
       "      'metalloprotease MPROT15',\n",
       "      'angiotensin-converting enzyme 2'],\n",
       "     'bts:symbol': ['ACE2']}},\n",
       "   {'id': 'PANTHER:PTHR10514:SF24',\n",
       "    'name': None,\n",
       "    'type': 'GeneFamily',\n",
       "    'equivalent_identifiers': {'bts:panther': ['PTHR10514:SF24']}}],\n",
       "  'edges': [{'source_id': 'ENTREZ:ACE2',\n",
       "    'target_id': 'PANTHER:PTHR10514:SF24',\n",
       "    'edge_source': 'robokop_gene2genefamily',\n",
       "    'id': '6850954efdb87bb61e77933fb321d35cca112276',\n",
       "    'type': 'partOf'}]}}"
      ]
     },
     "execution_count": 6,
     "metadata": {},
     "output_type": "execute_result"
    }
   ],
   "source": [
    "fc.to_reasoner_std()"
   ]
  },
  {
   "cell_type": "code",
   "execution_count": null,
   "metadata": {},
   "outputs": [],
   "source": []
  }
 ],
 "metadata": {
  "kernelspec": {
   "display_name": "Python 3",
   "language": "python",
   "name": "python3"
  },
  "language_info": {
   "codemirror_mode": {
    "name": "ipython",
    "version": 3
   },
   "file_extension": ".py",
   "mimetype": "text/x-python",
   "name": "python",
   "nbconvert_exporter": "python",
   "pygments_lexer": "ipython3",
   "version": "3.7.3"
  }
 },
 "nbformat": 4,
 "nbformat_minor": 2
}
