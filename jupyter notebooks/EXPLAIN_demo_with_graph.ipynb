{
 "cells": [
  {
   "cell_type": "markdown",
   "metadata": {},
   "source": [
    "# Introduction\n",
    "\n",
    "This notebook demonstrates basic usage of BioThings Explorer, an engine for autonomously querying a distributed knowledge graph. BioThings Explorer can answer two classes of queries -- \"PREDICT\" and \"EXPLAIN\".  PREDICT queries are described in [PREDICT_demo.ipynb](PREDICT_demo.ipynb). Here, we describe EXPLAIN queries and how to use BioThings Explorer to execute them.  A more detailed overview of the BioThings Explorer systems is provided in [these slides](https://docs.google.com/presentation/d/1QWQqqQhPD_pzKryh6Wijm4YQswv8pAjleVORCPyJyDE/edit?usp=sharing).\n",
    "\n",
    "EXPLAIN queries are designed to **identify plausible reasoning chains to explain the relationship between two entities**.  For example, in this notebook, we explore the question:\n",
    "\n",
    "&nbsp;&nbsp;&nbsp;&nbsp;&nbsp;&nbsp;&nbsp;&nbsp;&nbsp;\"*Why does imatinib have an effect on the treatment of chronic myelogenous leukemia (CML)?*\"  \n",
    "\n",
    "Later, we also compare those results to a similar query looking at imatinib's role in treating gastrointestinal stromal tumors (GIST).\n",
    "\n",
    "**To experiment with an executable version of this notebook, [load it in Google Colaboratory](https://colab.research.google.com/github/biothings/biothings_explorer/blob/add_data_tools/jupyter%20notebooks/EXPLAIN_demo_with_graph.ipynb).**"
   ]
  },
  {
   "cell_type": "markdown",
   "metadata": {},
   "source": [
    "## Step 0: Load BioThings Explorer modules"
   ]
  },
  {
   "cell_type": "markdown",
   "metadata": {},
   "source": [
    "First, install the `biothings_explorer` and `biothings_schema` packages, as described in this [README](https://github.com/biothings/biothings_explorer/blob/master/jupyter%20notebooks/README.md#prerequisite).  This only needs to be done once (but including it here for compability with [colab](https://colab.research.google.com/))."
   ]
  },
  {
   "cell_type": "code",
   "execution_count": 1,
   "metadata": {},
   "outputs": [
    {
     "name": "stdout",
     "output_type": "stream",
     "text": [
      "Collecting biothings_explorer from git+https://github.com/biothings/biothings_explorer#egg=biothings_explorer\n",
      "  Cloning https://github.com/biothings/biothings_explorer to /private/var/folders/59/w2v_bg_d2rj_hg69468vdxzw0000gn/T/pip-install-87l7sgk0/biothings-explorer\n",
      "  Running command git clone -q https://github.com/biothings/biothings_explorer /private/var/folders/59/w2v_bg_d2rj_hg69468vdxzw0000gn/T/pip-install-87l7sgk0/biothings-explorer\n",
      "  Running command git submodule update --init --recursive -q\n",
      "Requirement already satisfied: jupyter in ./ENV/lib/python3.7/site-packages (from biothings_explorer) (1.0.0)\n",
      "Requirement already satisfied: notebook==5.7.5 in ./ENV/lib/python3.7/site-packages (from biothings_explorer) (5.7.5)\n",
      "Requirement already satisfied: tornado==4.5.3 in ./ENV/lib/python3.7/site-packages (from biothings_explorer) (4.5.3)\n",
      "Requirement already satisfied: jsonschema>=3.0.1 in ./ENV/lib/python3.7/site-packages (from biothings_explorer) (3.0.1)\n",
      "Requirement already satisfied: networkx==2.3 in ./ENV/lib/python3.7/site-packages (from biothings_explorer) (2.3)\n",
      "Requirement already satisfied: jsonpath-rw>=1.4.0 in ./ENV/lib/python3.7/site-packages (from biothings_explorer) (1.4.0)\n",
      "Requirement already satisfied: requests>=2.21.0 in ./ENV/lib/python3.7/site-packages (from biothings_explorer) (2.22.0)\n",
      "Requirement already satisfied: graphviz>=0.11.1 in ./ENV/lib/python3.7/site-packages (from biothings_explorer) (0.11.1)\n",
      "Requirement already satisfied: aiohttp in ./ENV/lib/python3.7/site-packages (from biothings_explorer) (3.5.4)\n",
      "Requirement already satisfied: pandas in ./ENV/lib/python3.7/site-packages (from biothings_explorer) (0.25.1)\n",
      "Requirement already satisfied: biothings_schema@ git+https://github.com/biothings/biothings_schema.py from git+https://github.com/biothings/biothings_schema.py in ./ENV/lib/python3.7/site-packages (from biothings_explorer) (0.0.1)\n",
      "Requirement already satisfied: ipykernel in ./ENV/lib/python3.7/site-packages (from jupyter->biothings_explorer) (5.1.1)\n",
      "Requirement already satisfied: nbconvert in ./ENV/lib/python3.7/site-packages (from jupyter->biothings_explorer) (5.5.0)\n",
      "Requirement already satisfied: ipywidgets in ./ENV/lib/python3.7/site-packages (from jupyter->biothings_explorer) (7.4.2)\n",
      "Requirement already satisfied: qtconsole in ./ENV/lib/python3.7/site-packages (from jupyter->biothings_explorer) (4.5.1)\n",
      "Requirement already satisfied: jupyter-console in ./ENV/lib/python3.7/site-packages (from jupyter->biothings_explorer) (6.0.0)\n",
      "Requirement already satisfied: prometheus-client in ./ENV/lib/python3.7/site-packages (from notebook==5.7.5->biothings_explorer) (0.7.0)\n",
      "Requirement already satisfied: jupyter-core>=4.4.0 in ./ENV/lib/python3.7/site-packages (from notebook==5.7.5->biothings_explorer) (4.4.0)\n",
      "Requirement already satisfied: pyzmq>=17 in ./ENV/lib/python3.7/site-packages (from notebook==5.7.5->biothings_explorer) (18.0.1)\n",
      "Requirement already satisfied: traitlets>=4.2.1 in ./ENV/lib/python3.7/site-packages (from notebook==5.7.5->biothings_explorer) (4.3.2)\n",
      "Requirement already satisfied: jinja2 in ./ENV/lib/python3.7/site-packages (from notebook==5.7.5->biothings_explorer) (2.10.1)\n",
      "Requirement already satisfied: nbformat in ./ENV/lib/python3.7/site-packages (from notebook==5.7.5->biothings_explorer) (4.4.0)\n",
      "Requirement already satisfied: terminado>=0.8.1 in ./ENV/lib/python3.7/site-packages (from notebook==5.7.5->biothings_explorer) (0.8.2)\n",
      "Requirement already satisfied: ipython-genutils in ./ENV/lib/python3.7/site-packages (from notebook==5.7.5->biothings_explorer) (0.2.0)\n",
      "Requirement already satisfied: Send2Trash in ./ENV/lib/python3.7/site-packages (from notebook==5.7.5->biothings_explorer) (1.5.0)\n",
      "Requirement already satisfied: jupyter-client>=5.2.0 in ./ENV/lib/python3.7/site-packages (from notebook==5.7.5->biothings_explorer) (5.2.4)\n",
      "Requirement already satisfied: attrs>=17.4.0 in ./ENV/lib/python3.7/site-packages (from jsonschema>=3.0.1->biothings_explorer) (19.1.0)\n",
      "Requirement already satisfied: setuptools in ./ENV/lib/python3.7/site-packages (from jsonschema>=3.0.1->biothings_explorer) (41.0.1)\n",
      "Requirement already satisfied: six>=1.11.0 in ./ENV/lib/python3.7/site-packages (from jsonschema>=3.0.1->biothings_explorer) (1.12.0)\n",
      "Requirement already satisfied: pyrsistent>=0.14.0 in ./ENV/lib/python3.7/site-packages (from jsonschema>=3.0.1->biothings_explorer) (0.15.2)\n",
      "Requirement already satisfied: decorator>=4.3.0 in ./ENV/lib/python3.7/site-packages (from networkx==2.3->biothings_explorer) (4.4.0)\n",
      "Requirement already satisfied: ply in ./ENV/lib/python3.7/site-packages (from jsonpath-rw>=1.4.0->biothings_explorer) (3.11)\n",
      "Requirement already satisfied: idna<2.9,>=2.5 in ./ENV/lib/python3.7/site-packages (from requests>=2.21.0->biothings_explorer) (2.8)\n",
      "Requirement already satisfied: certifi>=2017.4.17 in ./ENV/lib/python3.7/site-packages (from requests>=2.21.0->biothings_explorer) (2019.3.9)\n",
      "Requirement already satisfied: urllib3!=1.25.0,!=1.25.1,<1.26,>=1.21.1 in ./ENV/lib/python3.7/site-packages (from requests>=2.21.0->biothings_explorer) (1.25.3)\n",
      "Requirement already satisfied: chardet<3.1.0,>=3.0.2 in ./ENV/lib/python3.7/site-packages (from requests>=2.21.0->biothings_explorer) (3.0.4)\n",
      "Requirement already satisfied: async-timeout<4.0,>=3.0 in ./ENV/lib/python3.7/site-packages (from aiohttp->biothings_explorer) (3.0.1)\n",
      "Requirement already satisfied: yarl<2.0,>=1.0 in ./ENV/lib/python3.7/site-packages (from aiohttp->biothings_explorer) (1.3.0)\n",
      "Requirement already satisfied: multidict<5.0,>=4.0 in ./ENV/lib/python3.7/site-packages (from aiohttp->biothings_explorer) (4.5.2)\n",
      "Requirement already satisfied: numpy>=1.13.3 in ./ENV/lib/python3.7/site-packages (from pandas->biothings_explorer) (1.17.0)\n",
      "Requirement already satisfied: python-dateutil>=2.6.1 in ./ENV/lib/python3.7/site-packages (from pandas->biothings_explorer) (2.8.0)\n",
      "Requirement already satisfied: pytz>=2017.2 in ./ENV/lib/python3.7/site-packages (from pandas->biothings_explorer) (2019.2)\n",
      "Requirement already satisfied: PyYAML>=5.1 in ./ENV/lib/python3.7/site-packages (from biothings_schema@ git+https://github.com/biothings/biothings_schema.py->biothings_explorer) (5.1.1)\n",
      "Requirement already satisfied: strict-rfc3339 in ./ENV/lib/python3.7/site-packages (from biothings_schema@ git+https://github.com/biothings/biothings_schema.py->biothings_explorer) (0.7)\n",
      "Requirement already satisfied: ipython>=5.0.0 in ./ENV/lib/python3.7/site-packages (from ipykernel->jupyter->biothings_explorer) (7.5.0)\n",
      "Requirement already satisfied: entrypoints>=0.2.2 in ./ENV/lib/python3.7/site-packages (from nbconvert->jupyter->biothings_explorer) (0.3)\n",
      "Requirement already satisfied: defusedxml in ./ENV/lib/python3.7/site-packages (from nbconvert->jupyter->biothings_explorer) (0.6.0)\n",
      "Requirement already satisfied: pandocfilters>=1.4.1 in ./ENV/lib/python3.7/site-packages (from nbconvert->jupyter->biothings_explorer) (1.4.2)\n",
      "Requirement already satisfied: testpath in ./ENV/lib/python3.7/site-packages (from nbconvert->jupyter->biothings_explorer) (0.4.2)\n",
      "Requirement already satisfied: pygments in ./ENV/lib/python3.7/site-packages (from nbconvert->jupyter->biothings_explorer) (2.4.2)\n",
      "Requirement already satisfied: bleach in ./ENV/lib/python3.7/site-packages (from nbconvert->jupyter->biothings_explorer) (3.1.0)\n",
      "Requirement already satisfied: mistune>=0.8.1 in ./ENV/lib/python3.7/site-packages (from nbconvert->jupyter->biothings_explorer) (0.8.4)\n",
      "Requirement already satisfied: widgetsnbextension~=3.4.0 in ./ENV/lib/python3.7/site-packages (from ipywidgets->jupyter->biothings_explorer) (3.4.2)\n",
      "Requirement already satisfied: prompt-toolkit<2.1.0,>=2.0.0 in ./ENV/lib/python3.7/site-packages (from jupyter-console->jupyter->biothings_explorer) (2.0.9)\n",
      "Requirement already satisfied: MarkupSafe>=0.23 in ./ENV/lib/python3.7/site-packages (from jinja2->notebook==5.7.5->biothings_explorer) (1.1.1)\n",
      "Requirement already satisfied: ptyprocess; os_name != \"nt\" in ./ENV/lib/python3.7/site-packages (from terminado>=0.8.1->notebook==5.7.5->biothings_explorer) (0.6.0)\n",
      "Requirement already satisfied: appnope; sys_platform == \"darwin\" in ./ENV/lib/python3.7/site-packages (from ipython>=5.0.0->ipykernel->jupyter->biothings_explorer) (0.1.0)\n",
      "Requirement already satisfied: pexpect; sys_platform != \"win32\" in ./ENV/lib/python3.7/site-packages (from ipython>=5.0.0->ipykernel->jupyter->biothings_explorer) (4.7.0)\n",
      "Requirement already satisfied: pickleshare in ./ENV/lib/python3.7/site-packages (from ipython>=5.0.0->ipykernel->jupyter->biothings_explorer) (0.7.5)\n",
      "Requirement already satisfied: jedi>=0.10 in ./ENV/lib/python3.7/site-packages (from ipython>=5.0.0->ipykernel->jupyter->biothings_explorer) (0.13.3)\n",
      "Requirement already satisfied: backcall in ./ENV/lib/python3.7/site-packages (from ipython>=5.0.0->ipykernel->jupyter->biothings_explorer) (0.1.0)\n",
      "Requirement already satisfied: webencodings in ./ENV/lib/python3.7/site-packages (from bleach->nbconvert->jupyter->biothings_explorer) (0.5.1)\n",
      "Requirement already satisfied: wcwidth in ./ENV/lib/python3.7/site-packages (from prompt-toolkit<2.1.0,>=2.0.0->jupyter-console->jupyter->biothings_explorer) (0.1.7)\n",
      "Requirement already satisfied: parso>=0.3.0 in ./ENV/lib/python3.7/site-packages (from jedi>=0.10->ipython>=5.0.0->ipykernel->jupyter->biothings_explorer) (0.4.0)\n",
      "Building wheels for collected packages: biothings-explorer\n",
      "  Building wheel for biothings-explorer (setup.py) ... \u001b[?25ldone\n",
      "\u001b[?25h  Stored in directory: /private/var/folders/59/w2v_bg_d2rj_hg69468vdxzw0000gn/T/pip-ephem-wheel-cache-mp83lp3v/wheels/61/44/e1/901cb798059240028e8e2b5d8ed46a47aafa11af30a20c465a\n",
      "Successfully built biothings-explorer\n",
      "Installing collected packages: biothings-explorer\n",
      "Successfully installed biothings-explorer-0.0.1\n",
      "\u001b[33mWARNING: You are using pip version 19.1.1, however version 20.0.2 is available.\n",
      "You should consider upgrading via the 'pip install --upgrade pip' command.\u001b[0m\n"
     ]
    }
   ],
   "source": [
    "!pip install git+https://github.com/biothings/biothings_explorer.git@add_data_tools"
   ]
  },
  {
   "cell_type": "code",
   "execution_count": null,
   "metadata": {},
   "outputs": [],
   "source": [
    "!pip install git+https://github.com/mmayers12/data_tools\n",
    "import warnings\n",
    "warnings.filterwarnings('ignore')"
   ]
  },
  {
   "cell_type": "markdown",
   "metadata": {},
   "source": [
    "Next, import the relevant modules:\n",
    "\n",
    "* **Hint**: Find corresponding bio-entity representation used in BioThings Explorer based on user input (could be any database IDs, symbols, names)\n",
    "* **FindConnection**: Find intermediate bio-entities which connects user specified input and output"
   ]
  },
  {
   "cell_type": "code",
   "execution_count": 1,
   "metadata": {},
   "outputs": [],
   "source": [
    "# import modules from biothings_explorer\n",
    "from biothings_explorer.hint import Hint\n",
    "from biothings_explorer.user_query_dispatcher import FindConnection"
   ]
  },
  {
   "cell_type": "markdown",
   "metadata": {},
   "source": [
    "## Step 1: Find representation of \"chronic myelogenous leukemia\" and \"imatinib\" in BTE\n",
    "\n",
    "In this step, BioThings Explorer translates our query strings \"chronic myelogenous leukemia\" and \"imatinib\" into BioThings objects, which contain mappings to many common identifiers.  Generally, the top result returned by the `Hint` module will be the correct item, but you should confirm that using the identifiers shown.\n",
    "\n",
    "Search terms can correspond to any child of [BiologicalEntity](https://biolink.github.io/biolink-model/docs/BiologicalEntity.html) from the [Biolink Model](https://biolink.github.io/biolink-model/docs/), including `DiseaseOrPhenotypicFeature` (e.g., \"lupus\"), `ChemicalSubstance` (e.g., \"acetaminophen\"), `Gene` (e.g., \"CDK2\"), `BiologicalProcess` (e.g., \"T cell differentiation\"), and `Pathway` (e.g., \"Citric acid cycle\")."
   ]
  },
  {
   "cell_type": "code",
   "execution_count": 2,
   "metadata": {},
   "outputs": [
    {
     "data": {
      "text/plain": [
       "{'mondo': 'MONDO:0011996',\n",
       " 'doid': 'DOID:8552',\n",
       " 'umls': 'C1292772',\n",
       " 'mesh': 'D015464',\n",
       " 'name': 'chronic myelogenous leukemia',\n",
       " 'display': 'mondo(MONDO:0011996) doid(DOID:8552) umls(C1292772) mesh(D015464) name(chronic myelogenous leukemia) ',\n",
       " 'type': 'DiseaseOrPhenotypicFeature',\n",
       " 'primary': {'identifier': 'mondo',\n",
       "  'cls': 'DiseaseOrPhenotypicFeature',\n",
       "  'value': 'MONDO:0011996'}}"
      ]
     },
     "execution_count": 2,
     "metadata": {},
     "output_type": "execute_result"
    }
   ],
   "source": [
    "ht = Hint()\n",
    "# find all potential representations of CML\n",
    "cml_hint = ht.query(\"chronic myelogenous leukemia\")\n",
    "# select the correct representation of CML\n",
    "cml = cml_hint['DiseaseOrPhenotypicFeature'][0]\n",
    "cml"
   ]
  },
  {
   "cell_type": "code",
   "execution_count": 3,
   "metadata": {},
   "outputs": [
    {
     "data": {
      "text/plain": [
       "{'chembl': 'CHEMBL941',\n",
       " 'drugbank': 'DB00619',\n",
       " 'name': 'Imatinib',\n",
       " 'pubchem': 5291,\n",
       " 'umls': 'C0935989',\n",
       " 'mesh': 'D000068877',\n",
       " 'chebi': 'CHEBI:45783',\n",
       " 'smiles': 'Cc1ccc(NC(=O)c2ccc(CN3CCN(C)CC3)cc2)cc1Nc1nccc(-c2cccnc2)n1',\n",
       " 'display': 'chembl(CHEMBL941) drugbank(DB00619) name(Imatinib) pubchem(5291) umls(C0935989) mesh(D000068877) chebi(CHEBI:45783) smiles(Cc1ccc(NC(=O)c2ccc(CN3CCN(C)CC3)cc2)cc1Nc1nccc(-c2cccnc2)n1) ',\n",
       " 'type': 'ChemicalSubstance',\n",
       " 'primary': {'identifier': 'chembl',\n",
       "  'cls': 'ChemicalSubstance',\n",
       "  'value': 'CHEMBL941'}}"
      ]
     },
     "execution_count": 3,
     "metadata": {},
     "output_type": "execute_result"
    }
   ],
   "source": [
    "# find all potential representations of imatinib\n",
    "imatinib_hint = ht.query(\"imatinib\")\n",
    "# select the correct representation of imatinib\n",
    "imatinib = imatinib_hint['ChemicalSubstance'][0]\n",
    "imatinib"
   ]
  },
  {
   "cell_type": "markdown",
   "metadata": {},
   "source": [
    "## Step 2: Find intermediate nodes connecting imatinib and chronic myelogenous leukemia\n",
    "\n",
    "In this section, we find all paths in the knowledge graph that connect imatinib and chronic myelogenous leukemia.  To do that, we will use `FindConnection`.  This class is a convenient wrapper around two advanced functions for **query path planning** and **query path execution**. More advanced features for both query path planning and query path execution are in development and will be documented in the coming months. \n",
    "\n",
    "The parameters for `FindConnection` are described below:\n"
   ]
  },
  {
   "cell_type": "code",
   "execution_count": 5,
   "metadata": {},
   "outputs": [
    {
     "name": "stdout",
     "output_type": "stream",
     "text": [
      "Help on function __init__ in module biothings_explorer.user_query_dispatcher:\n",
      "\n",
      "__init__(self, input_obj, output_obj, intermediate_nodes, registry=None)\n",
      "    Find relationships in the Knowledge Graph between an Input Object and an Output Object.\n",
      "    \n",
      "    Args:\n",
      "        input_obj (required): must be an object returned from Hint corresponding to a specific biomedical entity.\n",
      "                            Examples: \n",
      "                Hint().query(\"Fanconi anemia\")['DiseaseOrPhenotypicFeature'][0]\n",
      "                Hint().query(\"acetaminophen\")['ChemicalSubstance'][0]\n",
      "    \n",
      "        output_obj (required): must EITHER be an object returned from Hint corresponding to a specific biomedical\n",
      "                            entity, OR be a string or list of strings corresponding to Biolink Entity classes.\n",
      "                            Examples:\n",
      "                Hint().query(\"acetaminophen\")['ChemicalSubstance'][0]\n",
      "                'Gene'\n",
      "                ['Gene','ChemicalSubstance']\n",
      "    \n",
      "        intermediate_nodes (required): the semantic type(s) of the intermediate node(s).  Examples:\n",
      "                None                         : no intermediate node, find direct connections only\n",
      "                []                           : no intermediate node, find direct connections only\n",
      "                ['BiologicalEntity']         : one intermediate node of any semantic type\n",
      "                ['Gene']                     : one intermediate node that must be a Gene\n",
      "                [('Gene','Pathway')]         : one intermediate node that must be a Gene or a Pathway\n",
      "                ['Gene','Pathway']           : two intermediate nodes, first must be a Gene, second must be a Pathway.\n",
      "                ['Gene',('Pathway','Gene')]  : two intermediate nodes, first must be a Gene, second must be a Pathway or Gene.\n",
      "                                                **NOTE**: queries with more than one intermediate node are currently not supported\n",
      "\n"
     ]
    }
   ],
   "source": [
    "help(FindConnection.__init__)"
   ]
  },
  {
   "cell_type": "markdown",
   "metadata": {},
   "source": [
    "Here, we formulate a `FindConnection` query with \"CML\" as the `input_ojb`, \"imatinib\" as the `output_obj`.  We further specify with the `intermediate_nodes` parameter that we are looking for paths joining chronic myelogenous leukemia and imatinib with *one* intermediate node that is a Gene.  (The ability to search for longer reasoning paths that include additional intermediate nodes will be added shortly.)"
   ]
  },
  {
   "cell_type": "code",
   "execution_count": 4,
   "metadata": {},
   "outputs": [],
   "source": [
    "fc = FindConnection(input_obj=cml, output_obj=imatinib, intermediate_nodes='Gene')"
   ]
  },
  {
   "cell_type": "markdown",
   "metadata": {},
   "source": [
    "We next execute the `connect` method, which performs the **query path planning** and **query path execution** process.  In short, BioThings Explorer is deconstructing the query into individual API calls, executing those API calls, then assembling the results.\n",
    "\n",
    "A verbose log of this process is displayed below:"
   ]
  },
  {
   "cell_type": "code",
   "execution_count": 5,
   "metadata": {
    "scrolled": false
   },
   "outputs": [
    {
     "name": "stdout",
     "output_type": "stream",
     "text": [
      "==========\n",
      "========== QUERY PARAMETER SUMMARY ==========\n",
      "==========\n",
      "\n",
      "BTE will find paths that join 'chronic myelogenous leukemia' and 'Imatinib'. Paths will have 1 intermediate node.\n",
      "\n",
      "Intermediate node #1 will have these type constraints: Gene\n",
      "\n",
      "\n",
      "==========\n",
      "========== QUERY #1 -- fetch all Gene entities linked to 'chronic myelogenous leukemia' ==========\n",
      "==========\n",
      "\n",
      "==== Step #1: Query path planning ====\n",
      "\n",
      "Because chronic myelogenous leukemia is of type 'DiseaseOrPhenotypicFeature', BTE will query our meta-KG for APIs that can take 'DiseaseOrPhenotypicFeature' as input and 'Gene' as output\n",
      "\n",
      "BTE found 7 apis:\n",
      "\n",
      "API 1. corddisease(1 API call)\n",
      "API 2. mydisease.info(1 API call)\n",
      "API 3. biolink_disease2gene(1 API call)\n",
      "API 4. scibite_disease2gene(1 API call)\n",
      "API 5. semmeddisease(1 API call)\n",
      "API 6. DISEASES(1 API call)\n",
      "API 7. mgigene2phenotype(1 API call)\n",
      "\n",
      "\n",
      "==== Step #2: Query path execution ====\n",
      "NOTE: API requests are dispatched in parallel, so the list of APIs below is ordered by query time.\n",
      "\n",
      "API 2.1: http://mydisease.info/v1/query (POST \"q=C0023473,C1292772&scopes=mondo.xrefs.umls,disgenet.xrefs.umls&fields=disgenet.genes_related_to_disease&species=human&size=100\")\n",
      "API 5.1: http://biothings.ncats.io/semmed/query (POST \"q=C0023473,C1292772&scopes=umls&fields=derives_from,negatively_regulates,subclass_of,has_subclass,disrupts,treated_by,produces,positively_regulated_by,prevented_by,coexists_with,produced_by,manifestation_of,negatively_regulated_by,physically_interacts_with,has_part,disrupted_by,preceded_by,precedes,caused_by,related_to,affects,part_of,affected_by,positively_regulates,predisposed_by&species=human&size=100\")\n",
      "API 6.1: https://biothings.ncats.io/DISEASES/query (POST \"q=MONDO:0011996&scopes=_id&fields=DISEASES.associatedWith&species=human&size=100\")\n",
      "API 7.1: https://biothings.ncats.io/mgigene2phenotype/query (POST \"q=DOID:8552&scopes=mgi.associated_with_disease.doid&fields=_id&species=human&size=100\")\n",
      "API 1.1: https://biothings.ncats.io/cord_disease/query (POST \"q=DOID:8552&scopes=doid&fields=associated_with&species=human&size=100\")\n",
      "API 3.1: https://api.monarchinitiative.org/api/bioentity/disease/MONDO:0011996/genes?rows=100\n",
      "API 4.1: https://automat.renci.org/cord19_scibite_v2/disease/gene/MONDO:0011996\n",
      "\n",
      "\n",
      "==== Step #3: Output normalization ====\n",
      "\n",
      "API 6.1 DISEASES: 3 hits\n",
      "API 3.1 biolink_disease2gene: 4 hits\n",
      "API 1.1 corddisease: 146 hits\n",
      "API 7.1 mgigene2phenotype: 8 hits\n",
      "API 2.1 mydisease.info: 52 hits\n",
      "API 4.1 scibite_disease2gene: 1 hits\n",
      "API 5.1 semmeddisease: 1139 hits\n",
      "\n",
      "After id-to-object translation, BTE retrieved 842 unique objects.\n",
      "\n",
      "\n",
      "==========\n",
      "========== QUERY #2 -- fetch all Gene entities linked to 'Imatinib' ==========\n",
      "==========\n",
      "\n",
      "==== Step #1: Query path planning ====\n",
      "\n",
      "Because Imatinib is of type 'ChemicalSubstance', BTE will query our meta-KG for APIs that can take 'ChemicalSubstance' as input and 'Gene' as output\n",
      "\n",
      "BTE found 7 apis:\n",
      "\n",
      "API 1. dgidb_chemical2gene(1 API call)\n",
      "API 2. cordchemical(1 API call)\n",
      "API 3. scibite_chemical2gene(1 API call)\n",
      "API 4. semmedchemical(1 API call)\n",
      "API 5. chembl_drug_mechanism(1 API call)\n",
      "API 6. ctd_chemical2gene(1 API call)\n",
      "API 7. mychem.info(2 API calls)\n",
      "\n",
      "\n",
      "==== Step #2: Query path execution ====\n",
      "NOTE: API requests are dispatched in parallel, so the list of APIs below is ordered by query time.\n",
      "\n",
      "API 7.1: http://www.dgidb.org/api/v2/interactions.json?drugs=CHEMBL941\n",
      "API 6.2: http://mychem.info/v1/query (POST \"q=DB00619&scopes=drugbank.id&fields=drugbank.targets,drugbank.enzymes&species=human&size=100\")\n",
      "API 6.1: http://mychem.info/v1/query (POST \"q=CHEMBL941&scopes=chembl.molecule_chembl_id,chebi.xrefs.chembl&fields=drugcentral.bioactivity&species=human&size=100\")\n",
      "API 5.1: http://ctdbase.org/tools/batchQuery.go?inputType=chem&inputTerms=D000068877|mercury&report=genes_curated&format=json\n",
      "API 1.1: https://biothings.ncats.io/cord_chemical/query (POST \"q=CHEBI:45783&scopes=chebi&fields=associated_with&species=human&size=100\")\n",
      "0, message='Attempt to decode JSON with unexpected mimetype: text/plain;charset=utf-8', url=URL('http://ctdbase.org/tools/batchQuery.go?inputType=chem&inputTerms=D000068877%7Cmercury&report=genes_curated&format=json')\n",
      "API 3.1: https://biothings.ncats.io/semmedchemical/query (POST \"q=C0935989&scopes=umls&fields=derives_from,negatively_regulates,subclass_of,has_subclass,disrupts,produces,positively_regulated_by,coexists_with,produced_by,negatively_regulated_by,physically_interacts_with,has_part,derives_info,disrupted_by,precedes,related_to,affects,part_of,affected_by,positively_regulates&species=human&size=100\")\n",
      "API 2.1: https://automat.renci.org/cord19_scibite_v2/chemical_substance/gene/CHEBI:45783\n",
      "API 4.1: https://www.ebi.ac.uk/chembl/api/data/mechanism.json?molecule_chembl_id=CHEMBL941\n",
      "\n",
      "\n",
      "==== Step #3: Output normalization ====\n",
      "\n",
      "API 4.1 chembl_drug_mechanism: No hits\n",
      "API 1.1 cordchemical: 172 hits\n",
      "API 5.1 ctd_chemical2gene: 910 hits\n",
      "API 7.1 dgidb_chemical2gene: 34 hits\n",
      "API 6.1 mychem.info: 77 hits\n",
      "API 6.2 mychem.info: 18 hits\n",
      "API 2.1 scibite_chemical2gene: 1 hits\n",
      "API 3.1 semmedchemical: 802 hits\n",
      "\n",
      "After id-to-object translation, BTE retrieved 1299 unique objects.\n",
      "\n",
      "==========\n",
      "========== Final assembly of results ==========\n",
      "==========\n",
      "\n",
      "\n",
      "BTE found 300 unique intermediate nodes connecting 'chronic myelogenous leukemia' and 'Imatinib'\n"
     ]
    }
   ],
   "source": [
    "# set verbose=True will display all steps which BTE takes to find the connection\n",
    "fc.connect(verbose=True)"
   ]
  },
  {
   "cell_type": "markdown",
   "metadata": {},
   "source": [
    "## Step 3: Display and Filter results\n",
    "This section demonstrates post-query filtering done in Python. Later, more advanced filtering functions will be added to the **query path execution** module for interleaved filtering, thereby enabling longer query paths. More details to come...\n",
    "\n",
    "First, all matching paths can be exported to a data frame. Let's examine a sample of those results."
   ]
  },
  {
   "cell_type": "code",
   "execution_count": 6,
   "metadata": {
    "scrolled": true
   },
   "outputs": [],
   "source": [
    "df = fc.display_table_view()\n",
    "\n",
    "# because UMLS is not currently well-integrated in our ID-to-object translation system, removing UMLS-only entries here\n",
    "patternDel = \"^umls:C\\d+\"\n",
    "filter = df.node1_id.str.contains(patternDel)\n",
    "df = df[~filter]\n",
    "\n",
    "df1 = df.sample(10)"
   ]
  },
  {
   "cell_type": "code",
   "execution_count": 8,
   "metadata": {},
   "outputs": [
    {
     "data": {
      "image/png": "[encoded data removed]",
      "text/plain": [
       "<Figure size 864x720 with 1 Axes>"
      ]
     },
     "metadata": {},
     "output_type": "display_data"
    }
   ],
   "source": [
    "%matplotlib inline\n",
    "from biothings_explorer.utils.visualize import visualize\n",
    "\n",
    "visualize(df1)"
   ]
  },
  {
   "cell_type": "markdown",
   "metadata": {},
   "source": [
    "While most results are based on edges from [semmed](https://skr3.nlm.nih.gov/SemMed/), edges from [DGIdb](http://www.dgidb.org/), [biolink](https://monarchinitiative.org/), [disgenet](http://www.disgenet.org/), [mydisease.info](https://mydisease.info) and [drugcentral](http://drugcentral.org/) were also retrieved from their respective APIs.  \n",
    "\n",
    "Next, let's look to see which genes are mentioned the most."
   ]
  },
  {
   "cell_type": "code",
   "execution_count": 10,
   "metadata": {},
   "outputs": [
    {
     "data": {
      "text/plain": [
       "ABL1     77\n",
       "BCR      49\n",
       "ABCB1    27\n",
       "KIT      24\n",
       "GSTP1    18\n",
       "AKT1     15\n",
       "MYC      10\n",
       "ABCC1    10\n",
       "JAK2     10\n",
       "TNF       9\n",
       "Name: node1_name, dtype: int64"
      ]
     },
     "execution_count": 10,
     "metadata": {},
     "output_type": "execute_result"
    }
   ],
   "source": [
    "df.node1_name.value_counts().head(10)"
   ]
  },
  {
   "cell_type": "markdown",
   "metadata": {},
   "source": [
    "Not surprisingly, the top two genes that BioThings Explorer found that join imatinib to CML are *ABL1* and *BCR*, the two genes that are fused in the \"Philadelphia chromosome\", the genetic abnormality that underlies CML, *and* the validate target of imatinib.\n",
    "\n",
    "Let's examine some of the PubMed articles linking **CML to *ABL1*** and ***ABL1* to imatinib**."
   ]
  },
  {
   "cell_type": "code",
   "execution_count": 13,
   "metadata": {},
   "outputs": [
    {
     "name": "stdout",
     "output_type": "stream",
     "text": [
      "There are 15 articles supporting the edge between CML and ABL1. Sampling of 10 of those:\n",
      "http://pubmed.gov/11979553\n",
      "http://pubmed.gov/10498618\n",
      "http://pubmed.gov/10822991\n",
      "http://pubmed.gov/11368359\n",
      "http://pubmed.gov/20809971\n",
      "http://pubmed.gov/18082628\n",
      "http://pubmed.gov/18243808\n",
      "http://pubmed.gov/23287430\n",
      "http://pubmed.gov/21955823\n",
      "http://pubmed.gov/23637631\n"
     ]
    }
   ],
   "source": [
    "# fetch all articles connecting 'chronic myelogenous leukemia' and 'ABL1'\n",
    "articles = []\n",
    "for info in fc.display_edge_info('chronic myelogenous leukemia', 'ABL1').values():\n",
    "    if 'pubmed' in info['info']:\n",
    "        articles += info['info']['pubmed']\n",
    "print(\"There are \"+str(len(articles))+\" articles supporting the edge between CML and ABL1. Sampling of 10 of those:\")\n",
    "x = [print(\"http://pubmed.gov/\"+str(x)) for x in articles[0:10] ]"
   ]
  },
  {
   "cell_type": "code",
   "execution_count": 14,
   "metadata": {},
   "outputs": [
    {
     "name": "stdout",
     "output_type": "stream",
     "text": [
      "There are 25 articles supporting the edge between ABL1 and imatinib. Sampling of 10 of those:\n",
      "http://pubmed.gov/15799618\n",
      "http://pubmed.gov/15917650\n",
      "http://pubmed.gov/15949566\n",
      "http://pubmed.gov/16153117\n",
      "http://pubmed.gov/16205964\n",
      "http://pubmed.gov/19937285\n",
      "http://pubmed.gov/12032135\n",
      "http://pubmed.gov/12446442\n",
      "http://pubmed.gov/15039284\n",
      "http://pubmed.gov/15107311\n"
     ]
    }
   ],
   "source": [
    "# fetch all articles connecting 'ABL1' and 'Imatinib\n",
    "articles = []\n",
    "for info in fc.display_edge_info('ABL1', 'Imatinib').values():\n",
    "    if 'pubmed' in info['info']:\n",
    "        articles += info['info']['pubmed']\n",
    "print(\"There are \"+str(len(articles))+\" articles supporting the edge between ABL1 and imatinib. Sampling of 10 of those:\")\n",
    "x = [print(\"http://pubmed.gov/\"+str(x)) for x in articles[0:10] ]"
   ]
  },
  {
   "cell_type": "markdown",
   "metadata": {},
   "source": [
    "## Comparing results between CML and GIST\n",
    "\n",
    "Let's perform another BioThings Explorer query, this time looking to EXPLAIN the relationship between imatinib and gastrointestinal stromal tumors (GIST), another disease treated by imatinib."
   ]
  },
  {
   "cell_type": "code",
   "execution_count": 15,
   "metadata": {},
   "outputs": [
    {
     "data": {
      "text/plain": [
       "{'mondo': 'MONDO:0011719',\n",
       " 'doid': 'DOID:9253',\n",
       " 'umls': 'C3179349',\n",
       " 'mesh': 'D046152',\n",
       " 'name': 'gastrointestinal stromal tumor',\n",
       " 'display': 'mondo(MONDO:0011719) doid(DOID:9253) umls(C3179349) mesh(D046152) name(gastrointestinal stromal tumor) ',\n",
       " 'type': 'DiseaseOrPhenotypicFeature',\n",
       " 'primary': {'identifier': 'mondo',\n",
       "  'cls': 'DiseaseOrPhenotypicFeature',\n",
       "  'value': 'MONDO:0011719'}}"
      ]
     },
     "execution_count": 15,
     "metadata": {},
     "output_type": "execute_result"
    }
   ],
   "source": [
    "ht = Hint()\n",
    "# find all potential representations of CML\n",
    "gist_hint = ht.query(\"gastrointestinal stromal tumor\")\n",
    "# select the correct representation of CML\n",
    "gist = gist_hint['DiseaseOrPhenotypicFeature'][0]\n",
    "gist"
   ]
  },
  {
   "cell_type": "code",
   "execution_count": 16,
   "metadata": {},
   "outputs": [],
   "source": [
    "fc = FindConnection(input_obj=gist, output_obj=imatinib, intermediate_nodes='Gene')"
   ]
  },
  {
   "cell_type": "code",
   "execution_count": 17,
   "metadata": {},
   "outputs": [
    {
     "name": "stdout",
     "output_type": "stream",
     "text": [
      "0, message='Attempt to decode JSON with unexpected mimetype: text/plain;charset=utf-8'\n",
      "0, message='Attempt to decode JSON with unexpected mimetype: text/plain;charset=utf-8'\n"
     ]
    }
   ],
   "source": [
    "fc.connect(verbose=False) # skipping the verbose log here"
   ]
  },
  {
   "cell_type": "code",
   "execution_count": 18,
   "metadata": {},
   "outputs": [
    {
     "data": {
      "text/html": [
       "<div>\n",
       "<style scoped>\n",
       "    .dataframe tbody tr th:only-of-type {\n",
       "        vertical-align: middle;\n",
       "    }\n",
       "\n",
       "    .dataframe tbody tr th {\n",
       "        vertical-align: top;\n",
       "    }\n",
       "\n",
       "    .dataframe thead th {\n",
       "        text-align: right;\n",
       "    }\n",
       "</style>\n",
       "<table border=\"1\" class=\"dataframe\">\n",
       "  <thead>\n",
       "    <tr style=\"text-align: right;\">\n",
       "      <th></th>\n",
       "      <th>input</th>\n",
       "      <th>input_type</th>\n",
       "      <th>pred1</th>\n",
       "      <th>pred1_source</th>\n",
       "      <th>pred1_api</th>\n",
       "      <th>pred1_pubmed</th>\n",
       "      <th>node1_id</th>\n",
       "      <th>node1_name</th>\n",
       "      <th>node1_type</th>\n",
       "      <th>pred2</th>\n",
       "      <th>pred2_source</th>\n",
       "      <th>pred2_api</th>\n",
       "      <th>pred2_pubmed</th>\n",
       "      <th>output_id</th>\n",
       "      <th>output_name</th>\n",
       "      <th>output_type</th>\n",
       "    </tr>\n",
       "  </thead>\n",
       "  <tbody>\n",
       "    <tr>\n",
       "      <td>82</td>\n",
       "      <td>gastrointestinal stromal tumor</td>\n",
       "      <td>DiseaseOrPhenotypicFeature</td>\n",
       "      <td>associatedWith</td>\n",
       "      <td>semmed</td>\n",
       "      <td>semmeddisease</td>\n",
       "      <td>18615679</td>\n",
       "      <td>entrez:673</td>\n",
       "      <td>BRAF</td>\n",
       "      <td>Gene</td>\n",
       "      <td>associatedWith</td>\n",
       "      <td>ctd</td>\n",
       "      <td>ctd_chemical2gene</td>\n",
       "      <td>19937285</td>\n",
       "      <td>chembl:CHEMBL941</td>\n",
       "      <td>IMATINIB</td>\n",
       "      <td>ChemicalSubstance</td>\n",
       "    </tr>\n",
       "    <tr>\n",
       "      <td>177</td>\n",
       "      <td>gastrointestinal stromal tumor</td>\n",
       "      <td>DiseaseOrPhenotypicFeature</td>\n",
       "      <td>associatedWith</td>\n",
       "      <td>DISEASES</td>\n",
       "      <td>DISEASES</td>\n",
       "      <td>None</td>\n",
       "      <td>entrez:5156</td>\n",
       "      <td>PDGFRA</td>\n",
       "      <td>Gene</td>\n",
       "      <td>associatedWith</td>\n",
       "      <td>ctd</td>\n",
       "      <td>ctd_chemical2gene</td>\n",
       "      <td>22447953</td>\n",
       "      <td>chembl:CHEMBL941</td>\n",
       "      <td>IMATINIB</td>\n",
       "      <td>ChemicalSubstance</td>\n",
       "    </tr>\n",
       "    <tr>\n",
       "      <td>304</td>\n",
       "      <td>gastrointestinal stromal tumor</td>\n",
       "      <td>DiseaseOrPhenotypicFeature</td>\n",
       "      <td>associatedWith</td>\n",
       "      <td>semmed</td>\n",
       "      <td>semmeddisease</td>\n",
       "      <td>15869870,15709888,22652566,25544564,26349547,1...</td>\n",
       "      <td>entrez:3815</td>\n",
       "      <td>KIT</td>\n",
       "      <td>Gene</td>\n",
       "      <td>associatedWith</td>\n",
       "      <td>ctd</td>\n",
       "      <td>ctd_chemical2gene</td>\n",
       "      <td>17420286,27793025</td>\n",
       "      <td>chembl:CHEMBL941</td>\n",
       "      <td>IMATINIB</td>\n",
       "      <td>ChemicalSubstance</td>\n",
       "    </tr>\n",
       "    <tr>\n",
       "      <td>58</td>\n",
       "      <td>gastrointestinal stromal tumor</td>\n",
       "      <td>DiseaseOrPhenotypicFeature</td>\n",
       "      <td>associatedWith</td>\n",
       "      <td>semmed</td>\n",
       "      <td>semmeddisease</td>\n",
       "      <td>21163869</td>\n",
       "      <td>entrez:5243</td>\n",
       "      <td>ABCB1</td>\n",
       "      <td>Gene</td>\n",
       "      <td>associatedWith</td>\n",
       "      <td>ctd</td>\n",
       "      <td>ctd_chemical2gene</td>\n",
       "      <td>27262785</td>\n",
       "      <td>chembl:CHEMBL941</td>\n",
       "      <td>IMATINIB</td>\n",
       "      <td>ChemicalSubstance</td>\n",
       "    </tr>\n",
       "    <tr>\n",
       "      <td>208</td>\n",
       "      <td>gastrointestinal stromal tumor</td>\n",
       "      <td>DiseaseOrPhenotypicFeature</td>\n",
       "      <td>associatedWith</td>\n",
       "      <td>disgenet</td>\n",
       "      <td>mydisease.info</td>\n",
       "      <td>None</td>\n",
       "      <td>entrez:5156</td>\n",
       "      <td>PDGFRA</td>\n",
       "      <td>Gene</td>\n",
       "      <td>associatedWith</td>\n",
       "      <td>ctd</td>\n",
       "      <td>ctd_chemical2gene</td>\n",
       "      <td>15786421,17614352,28347583</td>\n",
       "      <td>chembl:CHEMBL941</td>\n",
       "      <td>IMATINIB</td>\n",
       "      <td>ChemicalSubstance</td>\n",
       "    </tr>\n",
       "    <tr>\n",
       "      <td>23</td>\n",
       "      <td>gastrointestinal stromal tumor</td>\n",
       "      <td>DiseaseOrPhenotypicFeature</td>\n",
       "      <td>associatedWith</td>\n",
       "      <td>semmed</td>\n",
       "      <td>semmeddisease</td>\n",
       "      <td>15297464</td>\n",
       "      <td>entrez:2322</td>\n",
       "      <td>FLT3</td>\n",
       "      <td>Gene</td>\n",
       "      <td>target</td>\n",
       "      <td>drugcentral</td>\n",
       "      <td>mychem.info</td>\n",
       "      <td>None</td>\n",
       "      <td>chembl:CHEMBL941</td>\n",
       "      <td>IMATINIB</td>\n",
       "      <td>ChemicalSubstance</td>\n",
       "    </tr>\n",
       "    <tr>\n",
       "      <td>257</td>\n",
       "      <td>gastrointestinal stromal tumor</td>\n",
       "      <td>DiseaseOrPhenotypicFeature</td>\n",
       "      <td>causedBy</td>\n",
       "      <td>semmed</td>\n",
       "      <td>semmeddisease</td>\n",
       "      <td>17566086,17566086,15154005,15580284,21364689,2...</td>\n",
       "      <td>entrez:5156</td>\n",
       "      <td>PDGFRA</td>\n",
       "      <td>Gene</td>\n",
       "      <td>associatedWith</td>\n",
       "      <td>ctd</td>\n",
       "      <td>ctd_chemical2gene</td>\n",
       "      <td>22447953</td>\n",
       "      <td>chembl:CHEMBL941</td>\n",
       "      <td>IMATINIB</td>\n",
       "      <td>ChemicalSubstance</td>\n",
       "    </tr>\n",
       "    <tr>\n",
       "      <td>232</td>\n",
       "      <td>gastrointestinal stromal tumor</td>\n",
       "      <td>DiseaseOrPhenotypicFeature</td>\n",
       "      <td>associatedWith</td>\n",
       "      <td>semmed</td>\n",
       "      <td>semmeddisease</td>\n",
       "      <td>18987545,20947481,19949796,17827398,21479127,2...</td>\n",
       "      <td>entrez:5156</td>\n",
       "      <td>PDGFRA</td>\n",
       "      <td>Gene</td>\n",
       "      <td>associatedWith</td>\n",
       "      <td>ctd</td>\n",
       "      <td>ctd_chemical2gene</td>\n",
       "      <td>15786421,17614352,28347583</td>\n",
       "      <td>chembl:CHEMBL941</td>\n",
       "      <td>IMATINIB</td>\n",
       "      <td>ChemicalSubstance</td>\n",
       "    </tr>\n",
       "    <tr>\n",
       "      <td>321</td>\n",
       "      <td>gastrointestinal stromal tumor</td>\n",
       "      <td>DiseaseOrPhenotypicFeature</td>\n",
       "      <td>associatedWith</td>\n",
       "      <td>semmed</td>\n",
       "      <td>semmeddisease</td>\n",
       "      <td>12949711,20859122</td>\n",
       "      <td>entrez:3815</td>\n",
       "      <td>KIT</td>\n",
       "      <td>Gene</td>\n",
       "      <td>associatedWith</td>\n",
       "      <td>ctd</td>\n",
       "      <td>ctd_chemical2gene</td>\n",
       "      <td>21295132</td>\n",
       "      <td>chembl:CHEMBL941</td>\n",
       "      <td>IMATINIB</td>\n",
       "      <td>ChemicalSubstance</td>\n",
       "    </tr>\n",
       "    <tr>\n",
       "      <td>269</td>\n",
       "      <td>gastrointestinal stromal tumor</td>\n",
       "      <td>DiseaseOrPhenotypicFeature</td>\n",
       "      <td>associatedWith</td>\n",
       "      <td>DISEASES</td>\n",
       "      <td>DISEASES</td>\n",
       "      <td>None</td>\n",
       "      <td>entrez:3815</td>\n",
       "      <td>KIT</td>\n",
       "      <td>Gene</td>\n",
       "      <td>target</td>\n",
       "      <td>drugcentral</td>\n",
       "      <td>mychem.info</td>\n",
       "      <td>None</td>\n",
       "      <td>chembl:CHEMBL941</td>\n",
       "      <td>IMATINIB</td>\n",
       "      <td>ChemicalSubstance</td>\n",
       "    </tr>\n",
       "  </tbody>\n",
       "</table>\n",
       "</div>"
      ],
      "text/plain": [
       "                              input                  input_type  \\\n",
       "82   gastrointestinal stromal tumor  DiseaseOrPhenotypicFeature   \n",
       "177  gastrointestinal stromal tumor  DiseaseOrPhenotypicFeature   \n",
       "304  gastrointestinal stromal tumor  DiseaseOrPhenotypicFeature   \n",
       "58   gastrointestinal stromal tumor  DiseaseOrPhenotypicFeature   \n",
       "208  gastrointestinal stromal tumor  DiseaseOrPhenotypicFeature   \n",
       "23   gastrointestinal stromal tumor  DiseaseOrPhenotypicFeature   \n",
       "257  gastrointestinal stromal tumor  DiseaseOrPhenotypicFeature   \n",
       "232  gastrointestinal stromal tumor  DiseaseOrPhenotypicFeature   \n",
       "321  gastrointestinal stromal tumor  DiseaseOrPhenotypicFeature   \n",
       "269  gastrointestinal stromal tumor  DiseaseOrPhenotypicFeature   \n",
       "\n",
       "              pred1 pred1_source       pred1_api  \\\n",
       "82   associatedWith       semmed   semmeddisease   \n",
       "177  associatedWith     DISEASES        DISEASES   \n",
       "304  associatedWith       semmed   semmeddisease   \n",
       "58   associatedWith       semmed   semmeddisease   \n",
       "208  associatedWith     disgenet  mydisease.info   \n",
       "23   associatedWith       semmed   semmeddisease   \n",
       "257        causedBy       semmed   semmeddisease   \n",
       "232  associatedWith       semmed   semmeddisease   \n",
       "321  associatedWith       semmed   semmeddisease   \n",
       "269  associatedWith     DISEASES        DISEASES   \n",
       "\n",
       "                                          pred1_pubmed     node1_id  \\\n",
       "82                                            18615679   entrez:673   \n",
       "177                                               None  entrez:5156   \n",
       "304  15869870,15709888,22652566,25544564,26349547,1...  entrez:3815   \n",
       "58                                            21163869  entrez:5243   \n",
       "208                                               None  entrez:5156   \n",
       "23                                            15297464  entrez:2322   \n",
       "257  17566086,17566086,15154005,15580284,21364689,2...  entrez:5156   \n",
       "232  18987545,20947481,19949796,17827398,21479127,2...  entrez:5156   \n",
       "321                                  12949711,20859122  entrez:3815   \n",
       "269                                               None  entrez:3815   \n",
       "\n",
       "    node1_name node1_type           pred2 pred2_source          pred2_api  \\\n",
       "82        BRAF       Gene  associatedWith          ctd  ctd_chemical2gene   \n",
       "177     PDGFRA       Gene  associatedWith          ctd  ctd_chemical2gene   \n",
       "304        KIT       Gene  associatedWith          ctd  ctd_chemical2gene   \n",
       "58       ABCB1       Gene  associatedWith          ctd  ctd_chemical2gene   \n",
       "208     PDGFRA       Gene  associatedWith          ctd  ctd_chemical2gene   \n",
       "23        FLT3       Gene          target  drugcentral        mychem.info   \n",
       "257     PDGFRA       Gene  associatedWith          ctd  ctd_chemical2gene   \n",
       "232     PDGFRA       Gene  associatedWith          ctd  ctd_chemical2gene   \n",
       "321        KIT       Gene  associatedWith          ctd  ctd_chemical2gene   \n",
       "269        KIT       Gene          target  drugcentral        mychem.info   \n",
       "\n",
       "                   pred2_pubmed         output_id output_name  \\\n",
       "82                     19937285  chembl:CHEMBL941    IMATINIB   \n",
       "177                    22447953  chembl:CHEMBL941    IMATINIB   \n",
       "304           17420286,27793025  chembl:CHEMBL941    IMATINIB   \n",
       "58                     27262785  chembl:CHEMBL941    IMATINIB   \n",
       "208  15786421,17614352,28347583  chembl:CHEMBL941    IMATINIB   \n",
       "23                         None  chembl:CHEMBL941    IMATINIB   \n",
       "257                    22447953  chembl:CHEMBL941    IMATINIB   \n",
       "232  15786421,17614352,28347583  chembl:CHEMBL941    IMATINIB   \n",
       "321                    21295132  chembl:CHEMBL941    IMATINIB   \n",
       "269                        None  chembl:CHEMBL941    IMATINIB   \n",
       "\n",
       "           output_type  \n",
       "82   ChemicalSubstance  \n",
       "177  ChemicalSubstance  \n",
       "304  ChemicalSubstance  \n",
       "58   ChemicalSubstance  \n",
       "208  ChemicalSubstance  \n",
       "23   ChemicalSubstance  \n",
       "257  ChemicalSubstance  \n",
       "232  ChemicalSubstance  \n",
       "321  ChemicalSubstance  \n",
       "269  ChemicalSubstance  "
      ]
     },
     "execution_count": 18,
     "metadata": {},
     "output_type": "execute_result"
    }
   ],
   "source": [
    "df = fc.display_table_view()\n",
    "\n",
    "# because UMLS is not currently well-integrated in our ID-to-object translation system, removing UMLS-only entries here\n",
    "patternDel = \"^umls:C\\d+\"\n",
    "filter = df.node1_id.str.contains(patternDel)\n",
    "df = df[~filter]\n",
    "\n",
    "df.sample(10)"
   ]
  },
  {
   "cell_type": "code",
   "execution_count": 19,
   "metadata": {},
   "outputs": [
    {
     "data": {
      "text/plain": [
       "PDGFRA    88\n",
       "KIT       80\n",
       "BRAF      25\n",
       "ABCC1     10\n",
       "PDGFRB     9\n",
       "ABCB1      9\n",
       "BCR        7\n",
       "EGFR       6\n",
       "BCL2       6\n",
       "AKT1       5\n",
       "Name: node1_name, dtype: int64"
      ]
     },
     "execution_count": 19,
     "metadata": {},
     "output_type": "execute_result"
    }
   ],
   "source": [
    "df.node1_name.value_counts().head(10)"
   ]
  },
  {
   "cell_type": "markdown",
   "metadata": {},
   "source": [
    "Here, the top two genes that BioThings Explorer found that join imatinib to GIST are *PDGFRA* and *KIT*, the most commonly mutated genes found in GIST *and* validated targets of imatinib.\n",
    "\n",
    "While several of the listed genes would be considered positive controls, others on the list could be viewed as **testable hypotheses and discovery opportunities** to be evaluated by domain experts."
   ]
  },
  {
   "cell_type": "markdown",
   "metadata": {},
   "source": [
    "## Conclusions and caveats\n",
    "\n",
    "This notebook demonstrated the use of BioThings Explorer in EXPLAIN mode to investigate the relationship between imatinib and two diseases that it treats -- chronic myelogenous leukemia (CML) and gastrointestinal stromal tumors (GIST).  In each case, BioThings Explorer autonomously queried a **distributed knowledge graph of biomedical APIs** to find the most common genes, and in each case the relevant targets were retrieved.\n",
    "\n",
    "There are still many areas for improvement (and some areas in which BioThings Explorer is still buggy).  And of course, BioThings Explorer is dependent on the accessibility of the APIs that comprise the distributed knowledge graph.  Nevertheless, we encourage users to try other variants of the EXPLAIN queries demonstrated in this notebook."
   ]
  }
 ],
 "metadata": {
  "kernelspec": {
   "display_name": "Python 3",
   "language": "python",
   "name": "python3"
  },
  "language_info": {
   "codemirror_mode": {
    "name": "ipython",
    "version": 3
   },
   "file_extension": ".py",
   "mimetype": "text/x-python",
   "name": "python",
   "nbconvert_exporter": "python",
   "pygments_lexer": "ipython3",
   "version": "3.7.3"
  }
 },
 "nbformat": 4,
 "nbformat_minor": 2
}
